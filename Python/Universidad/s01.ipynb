{
 "cells": [
  {
   "cell_type": "markdown",
   "metadata": {
    "id": "8Eqn3RtteZei"
   },
   "source": [
    "\n",
    "<p><img alt=\"Colaboratory logo\" height=\"140px\" src=\"https://svga.unac.edu.co/svga/images/logo-new.png\" align=\"left\" hspace=\"10px\" vspace=\"0px\"></p>\n",
    "\n",
    "<h1> Analisis de Datos 2</h1>\n",
    "\n",
    "\n",
    "Introduccion a Python para el analisis de datos\n"
   ]
  },
  {
   "cell_type": "markdown",
   "metadata": {
    "id": "pvauUV6iVLjC"
   },
   "source": [
    "# Ejemplos"
   ]
  },
  {
   "cell_type": "markdown",
   "metadata": {
    "id": "xjmNJPwuU884"
   },
   "source": [
    "* Uso de Machine Learning para desarrollar chatbots que faciliten el proceso de comunicación entre las compañías y los usuarios: En Colombia, grandes compañías han implementado sus chatbot, tales como, Bancolombia con Tabot, Avianca con Carla y Sura con Clara (https://www.dinero.com/edicion-impresa/tecnologia/articulo/uso-de-los-chatbots-para-ventas-y-atencion-al-cliente/263970).\n",
    "\n",
    "* Análisis de datos aplicado al deporte: Ahora los datos son de gran ayuda para los entrenadores en diferentes deportes, desde el futbol, donde los actuales campeones de la champions league, el Liverpool, son una muestra de ello (https://www.nytimes.com/es/2019/05/29/liverpool-champions/amp/) hasta el ciclismo (https://www.researchgate.net/publication/26815646_The_Analysis_and_Utilization_of_Cycling_Training_Data).\n",
    "\n",
    "* Uso de métodos de Inteligencia Artificial (AI) en imagenes aplicadas en medicina: El MIT desarrolló una herramienta para la detección temprana de cancer de mama (https://techcrunch.com/2019/06/26/mit-ai-tool-can-predict-breast-cancer-up-to-5-years-early-works-equally-well-for-white-and-black-patients/)\n"
   ]
  },
  {
   "cell_type": "markdown",
   "metadata": {
    "id": "KvGkmbJKmJgO"
   },
   "source": [
    "<p><a name=\"contents\"></a></p>\n",
    "\n",
    "# Contenido Sesión 1\n",
    "\n",
    "- <a href=\"#colabIntro\">1. Introducción al Colaboratory de Google</a><br>\n",
    "- <a href=\"#pythonIntro\">2. Introducción a Python</a><br>\n",
    "\n"
   ]
  },
  {
   "cell_type": "markdown",
   "metadata": {
    "id": "fwCSPQiBuLQH"
   },
   "source": [
    "<p><a name=\"colabIntro\"></a></p>\n",
    "\n",
    "# 1) Introducción a Google Colaboratory\n",
    "\n",
    "[[Contenidos]](#contents)\n",
    "\n",
    "Este documento que está leyendo es un [Notebook de Jupyter](https://jupyter.org/), almacenado en el Colaboratory de Google. No es una página estática, se trata de un ambiente interactivo en el cual puede ejecutar scrips en Python, además de otros programas.\n",
    "\n",
    "Por ejemplo, a continuación se muestra una **celda de código** con un pequeño script de Python que calcula un value, lo almacena en una variable y lo imprime en pantalla:"
   ]
  },
  {
   "cell_type": "code",
   "execution_count": 1,
   "metadata": {
    "colab": {
     "base_uri": "https://localhost:8080/"
    },
    "id": "xlIqRThkfinx",
    "outputId": "f1aa1f62-9985-4cd1-ab19-44413476b5ee"
   },
   "outputs": [
    {
     "name": "stdout",
     "output_type": "stream",
     "text": [
      "31536000\n"
     ]
    }
   ],
   "source": [
    "# A continuación se realiza un cálculo sencillo del número de segundos en un año, se almacena dicho cálculo en la variable secs_per_year y se imprime en pantalla\n",
    "\n",
    "secs_per_year=365*24*3600\n",
    "\n",
    "print(secs_per_year)"
   ]
  },
  {
   "cell_type": "markdown",
   "metadata": {
    "id": "F5cfOYAGg9XF"
   },
   "source": [
    "Para ejecutar el anterior código, se debe seleccionar haciendo click en la celda, y se debe hacer click el botón \"play\" a la izquierda de la celda; también puede usar los atajos de teclado \"Shift/Ctrl+Enter\".\n",
    "\n",
    "Todas las variables son almacenadas de forma global, de tal manera que se puede usar y modificar en celdas diferentes. En los dos siguientes ejemplos se muestran modificaciones ejecutadas sobre la variable secs_per_year"
   ]
  },
  {
   "cell_type": "code",
   "execution_count": 2,
   "metadata": {
    "colab": {
     "base_uri": "https://localhost:8080/"
    },
    "id": "3ZCDRslqkkev",
    "outputId": "8bcb49ba-4fc7-4a60-d40b-99aca8a636fc"
   },
   "outputs": [
    {
     "name": "stdout",
     "output_type": "stream",
     "text": [
      "Valor de la variable inicial 31536000\n",
      "Valor de la variable modificado 15768000.0\n"
     ]
    }
   ],
   "source": [
    "print(\"Valor de la variable inicial\",secs_per_year)\n",
    "\n",
    "#Modificación 1 de la variable sec_per_year\n",
    "\n",
    "secs_per_year=secs_per_year/2;\n",
    "\n",
    "print(\"Valor de la variable modificado\", secs_per_year)"
   ]
  },
  {
   "cell_type": "markdown",
   "metadata": {
    "id": "yotKpVH2sWGL"
   },
   "source": [
    "## More Resources\n",
    "\n",
    "Learn how to make the most of Python, Jupyter, Colaboratory, and related tools with these resources:\n",
    "\n",
    "### Working with Notebooks in Colaboratory\n",
    "- [Overview of Colaboratory](/notebooks/basic_features_overview.ipynb)\n",
    "- [Guide to Markdown](/notebooks/markdown_guide.ipynb)\n",
    "- [Importing libraries and installing dependencies](/notebooks/snippets/importing_libraries.ipynb)\n",
    "- [Saving and loading notebooks in GitHub](https://colab.research.google.com/github/googlecolab/colabtools/blob/master/notebooks/colab-github-demo.ipynb)\n",
    "- [Interactive forms](/notebooks/forms.ipynb)\n",
    "- [Interactive widgets](/notebooks/widgets.ipynb)\n",
    "\n",
    "### Working with Data\n",
    "- [Loading data: Drive, Sheets, and Google Cloud Storage](/notebooks/io.ipynb)\n",
    "- [Charts: visualizing data](/notebooks/charts.ipynb)\n",
    "- [Getting started with BigQuery](/notebooks/bigquery.ipynb)\n",
    "\n",
    "### Machine Learning Crash Course\n",
    "These are a few of the notebooks from Google's online Machine Learning course. See the [full course website](https://developers.google.com/machine-learning/crash-course/) for more.\n",
    "- [Intro to Pandas](/notebooks/mlcc/intro_to_pandas.ipynb)\n",
    "- [Tensorflow concepts](/notebooks/mlcc/tensorflow_programming_concepts.ipynb)\n",
    "- [First steps with TensorFlow](/notebooks/mlcc/first_steps_with_tensor_flow.ipynb)\n",
    "- [Intro to neural nets](/notebooks/mlcc/intro_to_neural_nets.ipynb)\n",
    "- [Intro to sparse data and embeddings](/notebooks/mlcc/intro_to_sparse_data_and_embeddings.ipynb)\n",
    "\n",
    "### Using Accelerated Hardware\n",
    "- [TensorFlow with GPUs](/notebooks/gpu.ipynb)\n",
    "- [TensorFlow with TPUs](/notebooks/tpu.ipynb)"
   ]
  },
  {
   "cell_type": "markdown",
   "metadata": {
    "id": "PT5cUO0od2BT"
   },
   "source": [
    "<p><a name=\"pythonIntro\"></a></p>\n",
    "\n",
    "# 2) Introducción a Python\n",
    "\n",
    "[[Contenidos]](#contents)\n",
    "\n",
    "El objetivo de la presente sección es el de suministrar al lector una breve introducción al lenguaje Python, y ayudar a los principiantes a familiarizarse con dicho lenguaje."
   ]
  },
  {
   "cell_type": "markdown",
   "metadata": {
    "id": "cwM2hsafqGeb"
   },
   "source": [
    "<p><a name=\"sections\"></a></p>\n",
    "\n",
    "#Secciones\n",
    "\n",
    "- <a href=\"#mods\">2.1. Módulos</a><br>\n",
    "- <a href=\"#ayuda\">2.2. Ayudas y descripciones</a><br>\n",
    "- <a href=\"#vars\">2.3. Variables y tipos</a><br>\n",
    " - <a href=\"#syms\">2.3.1. Nombres de variables</a><br>\n",
    "  - <a href=\"#asign\">2.3.2. Asignación</a><br>\n",
    "  - <a href=\"#ftypes\">2.3.3. Tipos fundamentales</a><br>\n",
    "- <a href=\"#ops&comps\">2.4. Operadores y comparaciones</a><br>\n",
    " - <a href=\"#mscut\">2.4.1. Atajos de operaciones matemáticas y asignaciones</a><br>\n",
    "- <a href=\"#sltd\">2.5. Strings, Listas y diccionarios</a><br>\n",
    " - <a href=\"#strings\">2.5.1. Strings</a><br>\n",
    " - <a href=\"#alist\">2.5.2. List</a><br>\n",
    " - <a href=\"#tuples\">2.5.3. Tuplas</a><br>\n",
    " - <a href=\"#diccionarios\">2.5.4. Diccionarios</a><br>\n",
    "- <a href=\"#indent\">2.6. Intentación</a><br>\n",
    "- <a href=\"#controlFlow\">2.7. Control Flow</a><br>\n",
    " - <a href=\"#cond\">2.7.1. Sentencias condicionales: if, elif, else </a><br>\n",
    "- <a href=\"#iter\">2.8. Ciclos lógicos </a><br>\n",
    " - <a href=\"#cicl\">2.8.1 Ciclos for y while </a><br>\n",
    " - <a href=\"#contr\">2.8.2 Sentencias de control de bucles</a><br>\n",
    "- <a href=\"#func\">2.9. Funciones y clases </a><br>\n",
    " - <a href=\"#funci\">2.9.1. Funciones</a><br>\n",
    " - <a href=\"#class\">2.9.2. Clases </a><br>\n",
    "- <a href=\"#inout\">2.10. Archivos de entrada y salida (I/O) </a><br>\n",
    " - <a href=\"#lecte\">2.10.1. Lectura de entrada de teclado </a><br>\n",
    " - <a href=\"#apyci\">2.10.2. Apertura y cierre de archivos</a><br>\n",
    " - <a href=\"#leyes\">2.10.3. Leer y escribir archivos </a><br>\n",
    " - <a href=\"#subar\">2.10.4. Subir y leer archivos </a><br>\n",
    " - <a href=\"#des\">2.10.5. Descargar archivos en el sistema local </a><br>\n",
    " - <a href=\"#goodr\">2.10.6. Google drive: Paquete Pydrive </a><br>\n",
    " - <a href=\"#git\">2.10.7. Github </a><br>"
   ]
  },
  {
   "cell_type": "markdown",
   "metadata": {
    "id": "4nNpYw-fkCzu"
   },
   "source": [
    "<p><a name=\"mods\"></a></p>\n",
    "\n",
    "##2.1. Módulos\n",
    "\n",
    "[[Secciones]](#sections)\n",
    "\n",
    "La mayoria de funcionalidades en Python estan proporcionadas por los módulos. Para poder usar un módulo en un programa de Python lo primero que se debe realizar es importarlo mediante la sentencia **import**. Por ejemplo, para importa el módulo *math*, el cual contiene gran variedad de funciones matemáticas, podemos hacer lo siguiente"
   ]
  },
  {
   "cell_type": "code",
   "execution_count": 3,
   "metadata": {
    "id": "ZE_1fo7exqpJ"
   },
   "outputs": [],
   "source": [
    "import math"
   ]
  },
  {
   "cell_type": "markdown",
   "metadata": {
    "id": "GE-bHIc13zbr"
   },
   "source": [
    "La línea de código anterior implica la importación de todo el módulo, haciéndolo disponible para su uso posterior dentro del programa. Por ejemplo, podemos usar funciones triconométricas para calcular algún valor y almacenarlo en una variable:"
   ]
  },
  {
   "cell_type": "code",
   "execution_count": 9,
   "metadata": {
    "colab": {
     "base_uri": "https://localhost:8080/"
    },
    "id": "XitBm17m5a83",
    "outputId": "6a4c860a-9b1b-4c21-c3dd-6703bec0da22"
   },
   "outputs": [
    {
     "data": {
      "text/plain": [
       "1.0"
      ]
     },
     "execution_count": 9,
     "metadata": {},
     "output_type": "execute_result"
    }
   ],
   "source": [
    "x = math.cos(2*math.pi)\n",
    "x"
   ]
  },
  {
   "cell_type": "markdown",
   "metadata": {
    "id": "HCVT2oSL5t-i"
   },
   "source": [
    "En lugar de importar una librería completa, lo que puede llevar a un tiempo de ejecución o un consumo de memoria innecesario, podemos escoger importar unas cuantas funciones del módulo haciendo explicito cuales de ellas queremos importar. Por ejemplo, podemos elegir importar solo las funciones $cos$ y el valor de $\\pi$:"
   ]
  },
  {
   "cell_type": "code",
   "execution_count": 5,
   "metadata": {
    "colab": {
     "base_uri": "https://localhost:8080/"
    },
    "id": "ByqZG1n-7cRB",
    "outputId": "d064151c-1921-4656-cc65-8c3967f83bbb"
   },
   "outputs": [
    {
     "data": {
      "text/plain": [
       "1.0"
      ]
     },
     "execution_count": 5,
     "metadata": {},
     "output_type": "execute_result"
    }
   ],
   "source": [
    "from math import cos, pi\n",
    "\n",
    "x = cos(2*pi)\n",
    "x"
   ]
  },
  {
   "cell_type": "markdown",
   "metadata": {
    "id": "3sg_iNHt710g"
   },
   "source": [
    "También es posible asignarle un nombre de acceso a los modolus o símbolos que se importan mediante el uso de **as**:"
   ]
  },
  {
   "cell_type": "code",
   "execution_count": 6,
   "metadata": {
    "colab": {
     "base_uri": "https://localhost:8080/"
    },
    "id": "0iwmV-jb8yW_",
    "outputId": "0e9a9136-bfad-452b-a32a-8886997a9eb6"
   },
   "outputs": [
    {
     "data": {
      "text/plain": [
       "180.0"
      ]
     },
     "execution_count": 6,
     "metadata": {},
     "output_type": "execute_result"
    }
   ],
   "source": [
    "import numpy as np\n",
    "from math import pi as number_pi\n",
    "\n",
    "#A continuación, convertímos el número pi de radianes a grados.\n",
    "\n",
    "x = np.rad2deg(number_pi)\n",
    "x"
   ]
  },
  {
   "cell_type": "markdown",
   "metadata": {
    "id": "YeHNWODgmKvV"
   },
   "source": [
    "<p><a name=\"ayuda\"></a></p>\n",
    "\n",
    "## 2.2. Ayudas y descripciones\n",
    "\n",
    "[[Secciones]](#sections)\n",
    "\n",
    "Mediante el uso de la función $help$, se puede obtener una descripción de casi todas las funciones. Por ejemplo, para obtener una descripción de la funcion $log$ de la libreria $math$ ejecutamos el siguiente comando:"
   ]
  },
  {
   "cell_type": "code",
   "execution_count": 7,
   "metadata": {
    "colab": {
     "base_uri": "https://localhost:8080/"
    },
    "id": "x2g4OJvvmsNv",
    "outputId": "5ae2c847-9430-4c30-8fb3-8be65ca0986d"
   },
   "outputs": [
    {
     "name": "stdout",
     "output_type": "stream",
     "text": [
      "Help on built-in function log in module math:\n",
      "\n",
      "log(...)\n",
      "    log(x, [base=math.e])\n",
      "    Return the logarithm of x to the given base.\n",
      "    \n",
      "    If the base not specified, returns the natural logarithm (base e) of x.\n",
      "\n"
     ]
    }
   ],
   "source": [
    "help(math.log)"
   ]
  },
  {
   "cell_type": "markdown",
   "metadata": {
    "id": "6qb0g9MmQqVD"
   },
   "source": [
    "Tambien puede obtener la ayuda poniendo el sígno interrogante (?) al final de la expresión, así:"
   ]
  },
  {
   "cell_type": "code",
   "execution_count": 8,
   "metadata": {
    "id": "EZL2WjpUQYd3"
   },
   "outputs": [],
   "source": [
    "math.log?"
   ]
  },
  {
   "cell_type": "code",
   "execution_count": 9,
   "metadata": {
    "colab": {
     "base_uri": "https://localhost:8080/"
    },
    "id": "5wPJ6DN2-6C1",
    "outputId": "27ca994c-7efe-4fdc-d1cf-46b194d39bfb"
   },
   "outputs": [
    {
     "data": {
      "text/plain": [
       "2.302585092994046"
      ]
     },
     "execution_count": 9,
     "metadata": {},
     "output_type": "execute_result"
    }
   ],
   "source": [
    "math.log(10)"
   ]
  },
  {
   "cell_type": "code",
   "execution_count": 10,
   "metadata": {
    "colab": {
     "base_uri": "https://localhost:8080/"
    },
    "id": "zrqIE3dZ_Ck-",
    "outputId": "4ede3583-ddcf-462a-f506-4ca62ed526d7"
   },
   "outputs": [
    {
     "data": {
      "text/plain": [
       "3.3219280948873626"
      ]
     },
     "execution_count": 10,
     "metadata": {},
     "output_type": "execute_result"
    }
   ],
   "source": [
    "math.log(10,2)"
   ]
  },
  {
   "cell_type": "code",
   "execution_count": 11,
   "metadata": {
    "colab": {
     "base_uri": "https://localhost:8080/"
    },
    "id": "emjiA8dH_FY3",
    "outputId": "4bba5c1c-4ce6-49fd-8f2c-62f2248d3bc3"
   },
   "outputs": [
    {
     "data": {
      "text/plain": [
       "1.0"
      ]
     },
     "execution_count": 11,
     "metadata": {},
     "output_type": "execute_result"
    }
   ],
   "source": [
    "math.log(10,10)"
   ]
  },
  {
   "cell_type": "markdown",
   "metadata": {
    "id": "4SdWFMpF_iyw"
   },
   "source": [
    "<p><a name=\"vars\"></a></p>\n",
    "\n",
    "## 2.3. Variables y tipos\n",
    "\n",
    "[[Secciones]](#sections)\n"
   ]
  },
  {
   "cell_type": "markdown",
   "metadata": {
    "id": "OmG1xsWVBh3G"
   },
   "source": [
    "<p><a name=\"syms\"></a></p>\n",
    "\n",
    "### 2.3.1. Variables y tipos\n",
    "\n",
    "Los nombres de las variables en Python pueden contener caracteres alfanuméricos *a-z*, *A-Z*, *0-9* y algunos caracteres especiales como _. Los nombres de las variables deben comenzar con una letra.\n",
    "\n",
    "Por convención, los nombres de las variables comienzan con letras minúsculas, y los nombres de las Clases con letras mayúsculas.\n",
    "\n",
    "Adicionalmente, existe un número de palabras claves que no pueden ser usadas como nombres de variables. Estas palabras claves son:\n",
    "\n",
    "> `and, as, assert, break, class, continue, def, del, elif, else, except, exec, finally, for, from, global, if, import, in, is, lambda, not, or, pass, print, raise, return, try, while, with, yield`\n",
    "\n"
   ]
  },
  {
   "cell_type": "markdown",
   "metadata": {
    "id": "0tOzwypQG20y"
   },
   "source": [
    "<p><a name=\"asign\"></a></p>\n",
    "\n",
    "### 2.3.2. Asignación.\n",
    "\n",
    "En Python, el operado de asignación es \"=\".  Python es un lenguaje de tipado dinámico, de tal forma que no es necesario asignarle un tipo a la variable cuando es creada.\n",
    "\n",
    "La asignación de un valor a una variable crea la variable. Por ejemplo:"
   ]
  },
  {
   "cell_type": "code",
   "execution_count": 12,
   "metadata": {
    "id": "65XTvJMTHH5w"
   },
   "outputs": [],
   "source": [
    "# asignación a una variable\n",
    "\n",
    "x = 1.0"
   ]
  },
  {
   "cell_type": "markdown",
   "metadata": {
    "id": "eTOeTstfKVgJ"
   },
   "source": [
    "Aunque no se hizo explicito, la variable tiene un tipo asociado a ella. El tipo de la variable puede deducirse del valor que le fue asignado. También podemos consultar el tipo mediante la función `type`:"
   ]
  },
  {
   "cell_type": "code",
   "execution_count": 13,
   "metadata": {
    "colab": {
     "base_uri": "https://localhost:8080/"
    },
    "id": "QTB-K6oxKnEK",
    "outputId": "fe5ababd-f5d1-4911-e19a-d6fe455e3965"
   },
   "outputs": [
    {
     "data": {
      "text/plain": [
       "float"
      ]
     },
     "execution_count": 13,
     "metadata": {},
     "output_type": "execute_result"
    }
   ],
   "source": [
    "type(x)"
   ]
  },
  {
   "cell_type": "markdown",
   "metadata": {
    "id": "wjTTfD72Ktv5"
   },
   "source": [
    "Si asignamos a la variable un nuevo valor, su tipo puede cambiar:"
   ]
  },
  {
   "cell_type": "code",
   "execution_count": 14,
   "metadata": {
    "colab": {
     "base_uri": "https://localhost:8080/"
    },
    "id": "SkbRDe3hKz78",
    "outputId": "56a9dded-80a9-4465-fd8b-dd4172205948"
   },
   "outputs": [
    {
     "data": {
      "text/plain": [
       "int"
      ]
     },
     "execution_count": 14,
     "metadata": {},
     "output_type": "execute_result"
    }
   ],
   "source": [
    "x = 1\n",
    "type(x)"
   ]
  },
  {
   "cell_type": "markdown",
   "metadata": {
    "id": "VyawEMh7LDkv"
   },
   "source": [
    "Si intentamos usar una variable que no ha sido definida aun, obtenemos un error `NameError` (Nótese que usarémos en los notebooks los bloques `try/except` para tratar las excepciones, de tal forma que el notebook no se interrumpa).\n",
    "\n",
    "En el siguiente código, intentaremos usar la función `print` de tal forma que si ocurre la excepción `NameError`, se imprime un mensaje en pantalla; de lo contrario, se generará un error. Más adelante, en el presente notebook, se estudiará mas detalladamente el manejo de excepciones.\n",
    "\n"
   ]
  },
  {
   "cell_type": "code",
   "execution_count": 15,
   "metadata": {
    "colab": {
     "base_uri": "https://localhost:8080/"
    },
    "id": "liKk4M_dLyfN",
    "outputId": "cff98298-c389-4819-96ec-6b9c3592972b"
   },
   "outputs": [
    {
     "name": "stdout",
     "output_type": "stream",
     "text": [
      "NameError name 'y' is not defined\n"
     ]
    }
   ],
   "source": [
    "try:\n",
    "    print(y)\n",
    "except(NameError) as err:\n",
    "    print(\"NameError\", err)\n",
    "else:\n",
    "    raise"
   ]
  },
  {
   "cell_type": "markdown",
   "metadata": {
    "id": "DrrYSJFGNlTQ"
   },
   "source": [
    "<p><a name=\"ftypes\"></a></p>\n",
    "\n",
    "### 2.3.3. Tipos fundamentales.\n",
    "\n",
    "En Python, los tipos fundamentales son\n",
    "\n",
    "\n",
    "\n",
    "\n",
    "\n",
    "1.   Enteros (int).\n",
    "2.   Punto flotante (float).\n",
    "3.   Buleanos (boolean)\n",
    "4.   Cadena de caracteres (strings).\n",
    "\n",
    "Veamos algunos ejemplos de estos tipos:\n",
    "\n",
    "\n",
    "\n",
    "\n"
   ]
  },
  {
   "cell_type": "code",
   "execution_count": 16,
   "metadata": {
    "colab": {
     "base_uri": "https://localhost:8080/"
    },
    "id": "AsH88KwXOjvT",
    "outputId": "edc32efe-3441-46df-b745-a7969621ae63"
   },
   "outputs": [
    {
     "data": {
      "text/plain": [
       "int"
      ]
     },
     "execution_count": 16,
     "metadata": {},
     "output_type": "execute_result"
    }
   ],
   "source": [
    "# integers\n",
    "\n",
    "x = 1\n",
    "type(x)"
   ]
  },
  {
   "cell_type": "code",
   "execution_count": 17,
   "metadata": {
    "colab": {
     "base_uri": "https://localhost:8080/"
    },
    "id": "d0MOnaqlOtrc",
    "outputId": "c6bf64d1-c47e-47e5-b07b-e0832a53ee0f"
   },
   "outputs": [
    {
     "data": {
      "text/plain": [
       "float"
      ]
     },
     "execution_count": 17,
     "metadata": {},
     "output_type": "execute_result"
    }
   ],
   "source": [
    "# float\n",
    "\n",
    "x = 1.0\n",
    "type(x)"
   ]
  },
  {
   "cell_type": "code",
   "execution_count": 18,
   "metadata": {
    "colab": {
     "base_uri": "https://localhost:8080/"
    },
    "id": "D4YDFbxpO1HX",
    "outputId": "2fc1788e-a461-416d-eeb5-996ac9eb61e4"
   },
   "outputs": [
    {
     "data": {
      "text/plain": [
       "(bool, bool)"
      ]
     },
     "execution_count": 18,
     "metadata": {},
     "output_type": "execute_result"
    }
   ],
   "source": [
    "# boolean\n",
    "\n",
    "b1 = True\n",
    "b2 = False\n",
    "\n",
    "type(b1), type(b2)"
   ]
  },
  {
   "cell_type": "code",
   "execution_count": 19,
   "metadata": {
    "colab": {
     "base_uri": "https://localhost:8080/"
    },
    "id": "tbWinpAZPDir",
    "outputId": "b5babbf0-15c2-4038-fd47-2eecad974767"
   },
   "outputs": [
    {
     "data": {
      "text/plain": [
       "str"
      ]
     },
     "execution_count": 19,
     "metadata": {},
     "output_type": "execute_result"
    }
   ],
   "source": [
    "# string\n",
    "s = \"Hola Mundo\"\n",
    "\n",
    "type(s)"
   ]
  },
  {
   "cell_type": "markdown",
   "metadata": {
    "id": "YonkX37TQTzA"
   },
   "source": [
    "<p><a name=\"ops&comps\"></a></p>\n",
    "\n",
    "## 2.4. Operadores y comparaciones.\n",
    "\n",
    "[[Secciones]](#sections)\n",
    "\n",
    "La mayoria de operadores y comparaciones poseen el significado al que, comunmente, estamos acostumbrados.\n",
    "<br>\n",
    "<br>\n",
    "*   Operadores aritméticos  `+`, `-`, `*`, `/`, `**` (potencia), `%` (módulo)\n",
    "\n",
    "\n"
   ]
  },
  {
   "cell_type": "code",
   "execution_count": 20,
   "metadata": {
    "colab": {
     "base_uri": "https://localhost:8080/"
    },
    "id": "a0aadW7WQ4MJ",
    "outputId": "24bb080f-df11-467f-f465-ad0bcb485cc0"
   },
   "outputs": [
    {
     "data": {
      "text/plain": [
       "[3, -1, 2, 2]"
      ]
     },
     "execution_count": 20,
     "metadata": {},
     "output_type": "execute_result"
    }
   ],
   "source": [
    "[1 + 2, 1 - 2, 1 * 2, 5 % 3]"
   ]
  },
  {
   "cell_type": "markdown",
   "metadata": {
    "id": "5QjhwpkeAP7i"
   },
   "source": [
    "En Python 2.7, el tipo de división (/) que se ejecute, depende del tipo de números involucrados. Si todos los números son enteros, la división será una divión entera, de lo contrario, será una operación en coma flotante. En Python 3, este hecho ha cambiado y las fracciones no se pierden cuando se dividen dos enteros (para las divisiones enteras se puede usar el operdor //)"
   ]
  },
  {
   "cell_type": "code",
   "execution_count": 21,
   "metadata": {
    "colab": {
     "base_uri": "https://localhost:8080/"
    },
    "id": "e5nUz2kxAHwp",
    "outputId": "ff4fab29-bf08-4af6-8066-04cf70b4c394"
   },
   "outputs": [
    {
     "name": "stdout",
     "output_type": "stream",
     "text": [
      "0.5\n",
      "0.5\n",
      "1.0\n"
     ]
    }
   ],
   "source": [
    "# En Python 3 las siguientes dos operaciones daran el mismo resultado.\n",
    "# En Python 2, la primera de ellas será tratada como una división entera.\n",
    "\n",
    "print(1/2)\n",
    "print(1/2.0)\n",
    "print(11//6.0)"
   ]
  },
  {
   "cell_type": "code",
   "execution_count": 22,
   "metadata": {
    "colab": {
     "base_uri": "https://localhost:8080/"
    },
    "id": "zJKMj5GKBmig",
    "outputId": "17624bcf-3660-4113-a1fb-628d1ccb95e4"
   },
   "outputs": [
    {
     "data": {
      "text/plain": [
       "4"
      ]
     },
     "execution_count": 22,
     "metadata": {},
     "output_type": "execute_result"
    }
   ],
   "source": [
    "# Nótese que la potenciación en Python se escribe de la forma ** y\n",
    "# no como ^\n",
    "\n",
    "2**2"
   ]
  },
  {
   "cell_type": "markdown",
   "metadata": {
    "id": "inA_zCFhCJMQ"
   },
   "source": [
    "\n",
    "*   Los buleanos están conectados o precedidos por palabras como `and`, `not`, `or`.\n",
    "\n"
   ]
  },
  {
   "cell_type": "code",
   "execution_count": 23,
   "metadata": {
    "colab": {
     "base_uri": "https://localhost:8080/"
    },
    "id": "d1L933QDB_jc",
    "outputId": "42be9b9d-927a-4681-81cc-bae6e0ec7c5d"
   },
   "outputs": [
    {
     "data": {
      "text/plain": [
       "False"
      ]
     },
     "execution_count": 23,
     "metadata": {},
     "output_type": "execute_result"
    }
   ],
   "source": [
    "True and False"
   ]
  },
  {
   "cell_type": "code",
   "execution_count": 24,
   "metadata": {
    "colab": {
     "base_uri": "https://localhost:8080/"
    },
    "id": "DAvHDZZPDKY0",
    "outputId": "400714c5-a627-4463-c924-7cf5bb2814d6"
   },
   "outputs": [
    {
     "data": {
      "text/plain": [
       "True"
      ]
     },
     "execution_count": 24,
     "metadata": {},
     "output_type": "execute_result"
    }
   ],
   "source": [
    "not False"
   ]
  },
  {
   "cell_type": "code",
   "execution_count": 25,
   "metadata": {
    "colab": {
     "base_uri": "https://localhost:8080/"
    },
    "id": "P_uDESoGDMt2",
    "outputId": "4fea252a-c9ea-4d82-9764-19bd35a204c1"
   },
   "outputs": [
    {
     "data": {
      "text/plain": [
       "True"
      ]
     },
     "execution_count": 25,
     "metadata": {},
     "output_type": "execute_result"
    }
   ],
   "source": [
    "True or False"
   ]
  },
  {
   "cell_type": "markdown",
   "metadata": {
    "id": "mXNEKXU1DWPN"
   },
   "source": [
    "\n",
    "\n",
    "*   Operadores de comparación `>`, `<`, `>=`(mayor o igual), `<=` (menor o igual), `==` (igual), `!=`(no igual) y `is` (identico).\n"
   ]
  },
  {
   "cell_type": "code",
   "execution_count": 26,
   "metadata": {
    "colab": {
     "base_uri": "https://localhost:8080/"
    },
    "id": "j4eUgIFhDOYF",
    "outputId": "06da3c5d-1f3c-41ad-fa81-52216620b4f2"
   },
   "outputs": [
    {
     "data": {
      "text/plain": [
       "(True, False)"
      ]
     },
     "execution_count": 26,
     "metadata": {},
     "output_type": "execute_result"
    }
   ],
   "source": [
    "2>1,2<1"
   ]
  },
  {
   "cell_type": "code",
   "execution_count": 27,
   "metadata": {
    "colab": {
     "base_uri": "https://localhost:8080/"
    },
    "id": "iBvOf56_INhS",
    "outputId": "ad9c0bd2-8c33-4730-c977-4eada86e9597"
   },
   "outputs": [
    {
     "data": {
      "text/plain": [
       "(False, False)"
      ]
     },
     "execution_count": 27,
     "metadata": {},
     "output_type": "execute_result"
    }
   ],
   "source": [
    "2>3,2<2"
   ]
  },
  {
   "cell_type": "code",
   "execution_count": 28,
   "metadata": {
    "colab": {
     "base_uri": "https://localhost:8080/"
    },
    "id": "JUtV68qaIVPz",
    "outputId": "3aae1fd2-6faa-49bd-a926-89ef6276b23a"
   },
   "outputs": [
    {
     "data": {
      "text/plain": [
       "(True, True)"
      ]
     },
     "execution_count": 28,
     "metadata": {},
     "output_type": "execute_result"
    }
   ],
   "source": [
    "4<=4,4>=4"
   ]
  },
  {
   "cell_type": "code",
   "execution_count": 29,
   "metadata": {
    "colab": {
     "base_uri": "https://localhost:8080/"
    },
    "id": "Uf1ILoH1Idk-",
    "outputId": "4d8fec63-b421-4631-a846-8d94e76c6156"
   },
   "outputs": [
    {
     "data": {
      "text/plain": [
       "True"
      ]
     },
     "execution_count": 29,
     "metadata": {},
     "output_type": "execute_result"
    }
   ],
   "source": [
    "#igual a\n",
    "[3,2]==[3,2]"
   ]
  },
  {
   "cell_type": "code",
   "execution_count": 30,
   "metadata": {
    "colab": {
     "base_uri": "https://localhost:8080/"
    },
    "id": "eeW5ikeSIm45",
    "outputId": "355f75ce-fd54-4964-91bf-d869f05a763f"
   },
   "outputs": [
    {
     "data": {
      "text/plain": [
       "True"
      ]
     },
     "execution_count": 30,
     "metadata": {},
     "output_type": "execute_result"
    }
   ],
   "source": [
    "# Not equal to\n",
    "\n",
    "2 != 5"
   ]
  },
  {
   "cell_type": "markdown",
   "metadata": {
    "id": "NqneYrrcI0n-"
   },
   "source": [
    "*   Operador buleano"
   ]
  },
  {
   "cell_type": "code",
   "execution_count": 31,
   "metadata": {
    "colab": {
     "base_uri": "https://localhost:8080/"
    },
    "id": "ZLEkrzmMIueo",
    "outputId": "82a93d01-272b-48d1-9c57-7d6697f5f641"
   },
   "outputs": [
    {
     "name": "stdout",
     "output_type": "stream",
     "text": [
      "False\n",
      "False\n",
      "True\n"
     ]
    }
   ],
   "source": [
    "x = True\n",
    "y = False\n",
    "\n",
    "print(not x)\n",
    "print(x and y)\n",
    "print(x or y)"
   ]
  },
  {
   "cell_type": "markdown",
   "metadata": {
    "id": "t6oenfZvJaNS"
   },
   "source": [
    "*   Comparación de strings"
   ]
  },
  {
   "cell_type": "code",
   "execution_count": 32,
   "metadata": {
    "colab": {
     "base_uri": "https://localhost:8080/"
    },
    "id": "KbtlcSftJomq",
    "outputId": "7769bcb4-82be-4e20-a694-983940bbd8f3"
   },
   "outputs": [
    {
     "data": {
      "text/plain": [
       "True"
      ]
     },
     "execution_count": 32,
     "metadata": {},
     "output_type": "execute_result"
    }
   ],
   "source": [
    "\"estar bien\" in \"Me gusta estar bien\""
   ]
  },
  {
   "cell_type": "code",
   "execution_count": 33,
   "metadata": {
    "colab": {
     "base_uri": "https://localhost:8080/"
    },
    "id": "XzA-tS3-J1NH",
    "outputId": "dea124bd-422c-45e7-f750-aa9399080550"
   },
   "outputs": [
    {
     "data": {
      "text/plain": [
       "True"
      ]
     },
     "execution_count": 33,
     "metadata": {},
     "output_type": "execute_result"
    }
   ],
   "source": [
    "\"estan\" not in \"Me gusta estar bien\""
   ]
  },
  {
   "cell_type": "markdown",
   "metadata": {
    "id": "46t9Rw_FLLcm"
   },
   "source": [
    "<p><a name=\"mscut\"></a></p>\n",
    "\n",
    "### 2.4.1 Atajos de operaciones matemáticas y asignaciones.\n",
    "\n",
    "[[Secciones]](#sections)\n",
    "\n",
    "Por ejemplo, la siguiente asignación y operación:\n"
   ]
  },
  {
   "cell_type": "code",
   "execution_count": 34,
   "metadata": {
    "colab": {
     "base_uri": "https://localhost:8080/"
    },
    "id": "7NxR98r1J8aX",
    "outputId": "55baf0a3-3934-4529-8834-9d9241bcd97c"
   },
   "outputs": [
    {
     "name": "stdout",
     "output_type": "stream",
     "text": [
      "4\n"
     ]
    }
   ],
   "source": [
    "a = 2\n",
    "a = a*2\n",
    "print(a)"
   ]
  },
  {
   "cell_type": "markdown",
   "metadata": {
    "id": "Oh-Lc8DGMNLK"
   },
   "source": [
    "el comando `a = a * 2`, puede ser abreviado como `a *= 2`. Este tipo de abreviaciones funcionan con las siguientes operaciones `+=`, `-=`, y `/=`."
   ]
  },
  {
   "cell_type": "code",
   "execution_count": 35,
   "metadata": {
    "colab": {
     "base_uri": "https://localhost:8080/"
    },
    "id": "4j9hXwTxMGUq",
    "outputId": "4bc7b870-cd8b-4f1b-f41d-970b91f316ec"
   },
   "outputs": [
    {
     "name": "stdout",
     "output_type": "stream",
     "text": [
      "16\n"
     ]
    }
   ],
   "source": [
    "a = 4\n",
    "a *= 4\n",
    "print(a)"
   ]
  },
  {
   "cell_type": "markdown",
   "metadata": {
    "id": "jUNSgddpO0g4"
   },
   "source": [
    "<p><a name=\"sltd\"></a></p>\n",
    "\n",
    "## 2.5. Strings, listas y diccionarios.\n",
    "\n",
    "[[Secciones]](#sections)\n",
    "\n",
    "<p><a name=\"strings\"></a></p>\n",
    "\n",
    "###2.5.1 Strings\n",
    "\n",
    "Las variables que se usan para guardar un mensaje, palabra, etc, se conocen como `strings`"
   ]
  },
  {
   "cell_type": "code",
   "execution_count": 36,
   "metadata": {
    "colab": {
     "base_uri": "https://localhost:8080/"
    },
    "id": "qnZEZqP0NQuD",
    "outputId": "a752bd88-675d-458c-c0fb-aa83198496e7"
   },
   "outputs": [
    {
     "data": {
      "text/plain": [
       "str"
      ]
     },
     "execution_count": 36,
     "metadata": {},
     "output_type": "execute_result"
    }
   ],
   "source": [
    "s = \"Hola mundo\"\n",
    "type(s)"
   ]
  },
  {
   "cell_type": "code",
   "execution_count": 37,
   "metadata": {
    "colab": {
     "base_uri": "https://localhost:8080/"
    },
    "id": "yiMVrS5_Pl2e",
    "outputId": "ee8c27a2-25b2-4f61-dd58-40b7c1d7a6fb"
   },
   "outputs": [
    {
     "data": {
      "text/plain": [
       "10"
      ]
     },
     "execution_count": 37,
     "metadata": {},
     "output_type": "execute_result"
    }
   ],
   "source": [
    "# Longitud del string: Número de caracteres en el string\n",
    "len(s)"
   ]
  },
  {
   "cell_type": "code",
   "execution_count": 38,
   "metadata": {
    "colab": {
     "base_uri": "https://localhost:8080/"
    },
    "id": "svUlFngQP_cs",
    "outputId": "f0163933-b5ad-4bf5-c4c6-ac9b36588d81"
   },
   "outputs": [
    {
     "name": "stdout",
     "output_type": "stream",
     "text": [
      "Hola alumnos\n"
     ]
    }
   ],
   "source": [
    "# Reemplazo de un substring dentro de un string\n",
    "s2 = s.replace(\"mundo\",\"alumnos\")\n",
    "print(s2)"
   ]
  },
  {
   "cell_type": "markdown",
   "metadata": {
    "id": "gq50T2VhQw6L"
   },
   "source": [
    "Podemos indexar los caracteres en un string mediante el uso de `[]`"
   ]
  },
  {
   "cell_type": "code",
   "execution_count": 39,
   "metadata": {
    "colab": {
     "base_uri": "https://localhost:8080/"
    },
    "id": "MlrzwSMCQnay",
    "outputId": "09d41ce8-77b7-4f67-d664-a271b32587df"
   },
   "outputs": [
    {
     "data": {
      "text/plain": [
       "('H', 'o', 'l')"
      ]
     },
     "execution_count": 39,
     "metadata": {},
     "output_type": "execute_result"
    }
   ],
   "source": [
    "s[0],s[1],s[2]"
   ]
  },
  {
   "cell_type": "markdown",
   "metadata": {
    "id": "cZ1VneRYRrga"
   },
   "source": [
    "**Para los usuarios de MATLAB:** Se debe tener cuidado ya que la indexación en Python empieza en 0.\n",
    "\n",
    "Es posible extraer parte de un string usando la sintaxis `[start:stop]`, en donde se extraen los caracteres entre la posiciones `start` y `stop`:"
   ]
  },
  {
   "cell_type": "code",
   "execution_count": 40,
   "metadata": {
    "colab": {
     "base_uri": "https://localhost:8080/",
     "height": 35
    },
    "id": "_K2cMoanRTCt",
    "outputId": "51ab3d54-c164-4025-aee3-fdd844a840fb"
   },
   "outputs": [
    {
     "data": {
      "application/vnd.google.colaboratory.intrinsic+json": {
       "type": "string"
      },
      "text/plain": [
       "'Hola'"
      ]
     },
     "execution_count": 40,
     "metadata": {},
     "output_type": "execute_result"
    }
   ],
   "source": [
    "s[0:4]"
   ]
  },
  {
   "cell_type": "markdown",
   "metadata": {
    "id": "EkH3jEk8SV8e"
   },
   "source": [
    "Si omitimos en el intervalo el `start` o el `stop`, se toma por defecto el princio y el final de string, respectivamente"
   ]
  },
  {
   "cell_type": "code",
   "execution_count": 41,
   "metadata": {
    "colab": {
     "base_uri": "https://localhost:8080/",
     "height": 35
    },
    "id": "fBnB-XMzSP7P",
    "outputId": "eb9a447e-ac84-45bf-d5b4-6c02956556ea"
   },
   "outputs": [
    {
     "data": {
      "application/vnd.google.colaboratory.intrinsic+json": {
       "type": "string"
      },
      "text/plain": [
       "'Hola'"
      ]
     },
     "execution_count": 41,
     "metadata": {},
     "output_type": "execute_result"
    }
   ],
   "source": [
    "s[:4]"
   ]
  },
  {
   "cell_type": "code",
   "execution_count": 42,
   "metadata": {
    "colab": {
     "base_uri": "https://localhost:8080/",
     "height": 35
    },
    "id": "uJvBDt9tSvL9",
    "outputId": "4e8b8c3e-f405-4e40-d1c6-a295f2cfe447"
   },
   "outputs": [
    {
     "data": {
      "application/vnd.google.colaboratory.intrinsic+json": {
       "type": "string"
      },
      "text/plain": [
       "'mundo'"
      ]
     },
     "execution_count": 42,
     "metadata": {},
     "output_type": "execute_result"
    }
   ],
   "source": [
    "s[5:]"
   ]
  },
  {
   "cell_type": "code",
   "execution_count": 43,
   "metadata": {
    "colab": {
     "base_uri": "https://localhost:8080/",
     "height": 35
    },
    "id": "D0Zw1I2eSzeQ",
    "outputId": "e62749c3-7967-4f77-8a51-3cd2ebb03292"
   },
   "outputs": [
    {
     "data": {
      "application/vnd.google.colaboratory.intrinsic+json": {
       "type": "string"
      },
      "text/plain": [
       "'Hola mundo'"
      ]
     },
     "execution_count": 43,
     "metadata": {},
     "output_type": "execute_result"
    }
   ],
   "source": [
    "s[:]"
   ]
  },
  {
   "cell_type": "markdown",
   "metadata": {
    "id": "f9pVKmtVTOQW"
   },
   "source": [
    "También podemos definir el tamaño del paso usando la sintaxis `[inicio:final:paso]`(el valor por defecto del paso es 1, como se vio anteriormente)"
   ]
  },
  {
   "cell_type": "code",
   "execution_count": 44,
   "metadata": {
    "colab": {
     "base_uri": "https://localhost:8080/",
     "height": 35
    },
    "id": "5U5QyQ0dTIZo",
    "outputId": "0ff2991b-72a0-45ff-c258-1baae99a6289"
   },
   "outputs": [
    {
     "data": {
      "application/vnd.google.colaboratory.intrinsic+json": {
       "type": "string"
      },
      "text/plain": [
       "'Hola mundo'"
      ]
     },
     "execution_count": 44,
     "metadata": {},
     "output_type": "execute_result"
    }
   ],
   "source": [
    "s[::1]"
   ]
  },
  {
   "cell_type": "code",
   "execution_count": 45,
   "metadata": {
    "colab": {
     "base_uri": "https://localhost:8080/",
     "height": 35
    },
    "id": "blfs1ZIHT3AV",
    "outputId": "0dcc6943-b4ca-4172-a430-634e71e24fbf"
   },
   "outputs": [
    {
     "data": {
      "application/vnd.google.colaboratory.intrinsic+json": {
       "type": "string"
      },
      "text/plain": [
       "'Hauo'"
      ]
     },
     "execution_count": 45,
     "metadata": {},
     "output_type": "execute_result"
    }
   ],
   "source": [
    "s[::3]"
   ]
  },
  {
   "cell_type": "markdown",
   "metadata": {
    "id": "vrZ-PKelT-LG"
   },
   "source": [
    "A esta técnica se le conoce con el nombre se *slicing*."
   ]
  },
  {
   "cell_type": "markdown",
   "metadata": {
    "id": "Eaq_DVzaHwDH"
   },
   "source": [
    "**Ejemplos de formatos de strings**"
   ]
  },
  {
   "cell_type": "code",
   "execution_count": 46,
   "metadata": {
    "colab": {
     "base_uri": "https://localhost:8080/"
    },
    "id": "koP6MyTtT4yY",
    "outputId": "848551e5-1e3e-47da-b1d9-66a07415a0a8"
   },
   "outputs": [
    {
     "name": "stdout",
     "output_type": "stream",
     "text": [
      "Comúnmente\n"
     ]
    }
   ],
   "source": [
    "#Contatenación de strings con +\n",
    "print(\"Común\"+\"mente\")"
   ]
  },
  {
   "cell_type": "code",
   "execution_count": 47,
   "metadata": {
    "colab": {
     "base_uri": "https://localhost:8080/"
    },
    "id": "_nxlbRWUIUNn",
    "outputId": "878157c4-8695-452c-eb5b-8efc6af0d116"
   },
   "outputs": [
    {
     "name": "stdout",
     "output_type": "stream",
     "text": [
      "Comúnmente\n",
      "Común mente\n",
      "('Común', 'mente')\n"
     ]
    }
   ],
   "source": [
    "#La función print concatena dependiendo de como son las entradas.\n",
    "#A continuación se muestran tres resultados diferentes\n",
    "\n",
    "print(\"Común\" \"mente\")\n",
    "print(\"Común\",\"mente\")\n",
    "print((\"Común\",\"mente\"))"
   ]
  },
  {
   "cell_type": "code",
   "execution_count": 48,
   "metadata": {
    "colab": {
     "base_uri": "https://localhost:8080/"
    },
    "id": "6QkG1qAjJeGV",
    "outputId": "243cc1bc-f009-43ee-f011-467577b432f2"
   },
   "outputs": [
    {
     "name": "stdout",
     "output_type": "stream",
     "text": [
      "Común 1.0 False\n"
     ]
    }
   ],
   "source": [
    "#Por otra parte, la función print convierte todos las entradas a strings\n",
    "print(\"Común\", 1.0, False)"
   ]
  },
  {
   "cell_type": "code",
   "execution_count": 49,
   "metadata": {
    "colab": {
     "base_uri": "https://localhost:8080/"
    },
    "id": "8xY0Rg-nKDqx",
    "outputId": "a9d71460-6b09-4cf0-e4b4-5f2b94252834"
   },
   "outputs": [
    {
     "name": "stdout",
     "output_type": "stream",
     "text": [
      "value = 3.343569\n"
     ]
    }
   ],
   "source": [
    "# Podemos usar la función print en forma similar a como es usada en C\n",
    "\n",
    "print(\"value = %f\" %3.343569)"
   ]
  },
  {
   "cell_type": "markdown",
   "metadata": {
    "id": "st1oobwsLTt0"
   },
   "source": [
    "Python posee dos estilos de formatos. Un estilo más antiguo, en el que se especifica, por ejemplo, el número de cifras decimales que se imprimirá tendrá un número de tipo float denotado por %n.f y %.d, que transforma un número en un string, correspondiente a un numero decimal.  "
   ]
  },
  {
   "cell_type": "code",
   "execution_count": 50,
   "metadata": {
    "colab": {
     "base_uri": "https://localhost:8080/"
    },
    "id": "-GbWA7npKu6i",
    "outputId": "025579e1-fa75-437a-d5ed-64185e23277a"
   },
   "outputs": [
    {
     "name": "stdout",
     "output_type": "stream",
     "text": [
      "value1 = 3.142. value2 = 1\n"
     ]
    }
   ],
   "source": [
    "s2 = \"value1 = %.3f. value2 = %d\" % (3.1415, 1.5)\n",
    "print(s2)"
   ]
  },
  {
   "cell_type": "markdown",
   "metadata": {
    "id": "Lipm64IAO3ws"
   },
   "source": [
    "El mismo string puede ser definido usando el nuevo estilo de formato"
   ]
  },
  {
   "cell_type": "code",
   "execution_count": 51,
   "metadata": {
    "colab": {
     "base_uri": "https://localhost:8080/"
    },
    "id": "UIrPrXN-OTVg",
    "outputId": "edaabc16-6be2-4053-f339-dbf9193cea18"
   },
   "outputs": [
    {
     "name": "stdout",
     "output_type": "stream",
     "text": [
      "value1 = 3.14, value2 = 1.5\n"
     ]
    },
    {
     "data": {
      "text/plain": [
       "str"
      ]
     },
     "execution_count": 51,
     "metadata": {},
     "output_type": "execute_result"
    }
   ],
   "source": [
    "s3 = 'value1 = {:.2f}, value2 = {}'.format(3.1415, 1.5)\n",
    "\n",
    "print(s3)\n",
    "type(s3)"
   ]
  },
  {
   "cell_type": "code",
   "execution_count": 52,
   "metadata": {
    "colab": {
     "base_uri": "https://localhost:8080/"
    },
    "id": "uJ7Mt4tyPKdl",
    "outputId": "cf38d23e-d632-4276-9248-58e645b57436"
   },
   "outputs": [
    {
     "name": "stdout",
     "output_type": "stream",
     "text": [
      "Las líneas nuevas son indicadas por \n",
      "los espacios por \t.\n",
      "Las líneas nuevas son indicada por \\n y los espacios por \\t. r indica raw string\n"
     ]
    }
   ],
   "source": [
    "print(\"Las líneas nuevas son indicadas por \\nlos espacios por \\t.\")\n",
    "\n",
    "print(r\"Las líneas nuevas son indicada por \\n y los espacios por \\t. r indica raw string\")"
   ]
  },
  {
   "cell_type": "code",
   "execution_count": 53,
   "metadata": {
    "colab": {
     "base_uri": "https://localhost:8080/"
    },
    "id": "MXsP0n2sQ5Bn",
    "outputId": "b4e23a57-9053-43c3-82f5-a9b79b9c8c03"
   },
   "outputs": [
    {
     "name": "stdout",
     "output_type": "stream",
     "text": [
      "Nombre: Python\n",
      "Número: 2019\n",
      "String: ----\n"
     ]
    }
   ],
   "source": [
    "s4=\"Nombre: {}\\nNúmero: {}\\nString: {}\".format(\"Python\", 2019, 4 * \"-\")\n",
    "print(s4)"
   ]
  },
  {
   "cell_type": "code",
   "execution_count": 54,
   "metadata": {
    "colab": {
     "base_uri": "https://localhost:8080/"
    },
    "id": "iEY9qBl9S6Bs",
    "outputId": "e1c3a262-50a0-43fa-da60-0ba75a7c81e8"
   },
   "outputs": [
    {
     "name": "stdout",
     "output_type": "stream",
     "text": [
      "String\n",
      "con varias\n",
      "líneas de texto.\n"
     ]
    }
   ],
   "source": [
    "strString = \"\"\"String\n",
    "con varias\n",
    "líneas de texto.\"\"\"\n",
    "print(strString)\n"
   ]
  },
  {
   "cell_type": "code",
   "execution_count": 55,
   "metadata": {
    "colab": {
     "base_uri": "https://localhost:8080/"
    },
    "id": "zg0FDVV8TqE-",
    "outputId": "c6893642-6fe5-4125-aa05-917c2815100d"
   },
   "outputs": [
    {
     "name": "stdout",
     "output_type": "stream",
     "text": [
      "Esto es una prueba.\n"
     ]
    }
   ],
   "source": [
    "print(\"Esto {verbo} una {sujeto}.\".format(sujeto = \"prueba\", verbo = \"es\"))"
   ]
  },
  {
   "cell_type": "markdown",
   "metadata": {
    "id": "6dW4ET9EWgVR"
   },
   "source": [
    "<p><a name=\"alist\"></a></p>\n",
    "\n",
    "### 2.5.2. Listas\n",
    "\n",
    "[[Secciones]](#sections)\n",
    "\n",
    "Las listas son muy similares a los `strings` con la excepción de que los elementos de una lista pueden ser de cualquier tipo.\n",
    "\n",
    "La sintaxis en Python es de la forma `[...]`."
   ]
  },
  {
   "cell_type": "code",
   "execution_count": 56,
   "metadata": {
    "colab": {
     "base_uri": "https://localhost:8080/"
    },
    "id": "Hwhv9wrHYJzg",
    "outputId": "69dec048-a8a4-4f7b-c784-9f4e3d456099"
   },
   "outputs": [
    {
     "name": "stdout",
     "output_type": "stream",
     "text": [
      "<class 'list'>\n",
      "[0, 1, 2, 3]\n"
     ]
    }
   ],
   "source": [
    "l=[0,1,2,3]\n",
    "print(type(l))\n",
    "print(l)"
   ]
  },
  {
   "cell_type": "markdown",
   "metadata": {
    "id": "3i2WvZruYaKL"
   },
   "source": [
    "Podemos usar las mismas técnicas de *slicing* que usamos en los *strings"
   ]
  },
  {
   "cell_type": "code",
   "execution_count": 57,
   "metadata": {
    "colab": {
     "base_uri": "https://localhost:8080/"
    },
    "id": "9leGZY_AYWJM",
    "outputId": "415567c1-a6cd-45f5-ce3f-8262b642d42f"
   },
   "outputs": [
    {
     "name": "stdout",
     "output_type": "stream",
     "text": [
      "[0, 1, 2, 3]\n",
      "[0, 1]\n",
      "[0, 2]\n"
     ]
    }
   ],
   "source": [
    "print(l[:])\n",
    "print(l[0:2])\n",
    "print(l[::2])"
   ]
  },
  {
   "cell_type": "markdown",
   "metadata": {
    "id": "zVrXQ4WzTP28"
   },
   "source": [
    "**A los usuarios de MATLAB**: Recuerden que la indexación inicia en 0\n",
    "\n"
   ]
  },
  {
   "cell_type": "code",
   "execution_count": 58,
   "metadata": {
    "colab": {
     "base_uri": "https://localhost:8080/"
    },
    "id": "vu4jcI9UZQIk",
    "outputId": "85a7a07d-f1f9-4893-9234-2af99d204f3f"
   },
   "outputs": [
    {
     "data": {
      "text/plain": [
       "0"
      ]
     },
     "execution_count": 58,
     "metadata": {},
     "output_type": "execute_result"
    }
   ],
   "source": [
    "l[0]"
   ]
  },
  {
   "cell_type": "markdown",
   "metadata": {
    "id": "_5HL_B8fUH8d"
   },
   "source": [
    "Los elementos de una lista no tiene que ser todos del mismo"
   ]
  },
  {
   "cell_type": "code",
   "execution_count": 59,
   "metadata": {
    "id": "H0S4yEMrTyyT"
   },
   "outputs": [],
   "source": [
    "l = [1, 'a', 1.0]"
   ]
  },
  {
   "cell_type": "markdown",
   "metadata": {
    "id": "FQGdlXIYYlm9"
   },
   "source": [
    "Las listas en Python inhomogeneas y anidadas arbitrariamente:\n"
   ]
  },
  {
   "cell_type": "code",
   "execution_count": 60,
   "metadata": {
    "colab": {
     "base_uri": "https://localhost:8080/"
    },
    "id": "sjoWVomcYNrt",
    "outputId": "287cf6a9-3398-4742-baf5-3622b1681405"
   },
   "outputs": [
    {
     "data": {
      "text/plain": [
       "[1, [2, [3, [4, [5]]]]]"
      ]
     },
     "execution_count": 60,
     "metadata": {},
     "output_type": "execute_result"
    }
   ],
   "source": [
    "nested_list = [1, [2, [3, [4, [5]]]]]\n",
    "nested_list"
   ]
  },
  {
   "cell_type": "markdown",
   "metadata": {
    "id": "yqiXn-TuZ744"
   },
   "source": [
    "Las listas desempeñan un papel muy importante en Python y, por ejemplo, se utilizan en bucles y otras estructuras de control de flujo (que se analizan a continuación). Hay una serie de funciones convenientes para generar listas de varios tipos, por ejemplo, la función de `range` (tenga en cuenta la función `range` de Python 3 crea un generador, por lo que tiene que usar la función de lista para obtener una lista):"
   ]
  },
  {
   "cell_type": "code",
   "execution_count": 61,
   "metadata": {
    "colab": {
     "base_uri": "https://localhost:8080/"
    },
    "id": "UQ0HNFX2bpBz",
    "outputId": "c17dc7e3-b7ad-4187-f534-578e8f5be0e1"
   },
   "outputs": [
    {
     "data": {
      "text/plain": [
       "[1, 3, 5, 7, 9, 11, 13, 15]"
      ]
     },
     "execution_count": 61,
     "metadata": {},
     "output_type": "execute_result"
    }
   ],
   "source": [
    "inicio = 1\n",
    "final = 16\n",
    "paso = 2\n",
    "\n",
    "list(range(inicio, final, paso))"
   ]
  },
  {
   "cell_type": "code",
   "execution_count": 62,
   "metadata": {
    "colab": {
     "base_uri": "https://localhost:8080/"
    },
    "id": "EOFMKZP-bzoL",
    "outputId": "f85b3c56-fe80-4b26-a349-aee0c9e5cccb"
   },
   "outputs": [
    {
     "name": "stdout",
     "output_type": "stream",
     "text": [
      "Hola mundo\n"
     ]
    },
    {
     "data": {
      "text/plain": [
       "['H', 'o', 'l', 'a', ' ', 'm', 'u', 'n', 'd', 'o']"
      ]
     },
     "execution_count": 62,
     "metadata": {},
     "output_type": "execute_result"
    }
   ],
   "source": [
    "# Convertir un string en una lista casteando mediante list\n",
    "\n",
    "print(s)\n",
    "\n",
    "s2 = list(s)\n",
    "\n",
    "s2"
   ]
  },
  {
   "cell_type": "code",
   "execution_count": 63,
   "metadata": {
    "colab": {
     "base_uri": "https://localhost:8080/"
    },
    "id": "jYRGhv46cGAu",
    "outputId": "2a3c009e-4e05-4516-efe3-90a54beee619"
   },
   "outputs": [
    {
     "name": "stdout",
     "output_type": "stream",
     "text": [
      "[' ', 'H', 'a', 'd', 'l', 'm', 'n', 'o', 'o', 'u']\n"
     ]
    }
   ],
   "source": [
    "# Organización de la lista\n",
    "s2.sort()\n",
    "\n",
    "print(s2)"
   ]
  },
  {
   "cell_type": "markdown",
   "metadata": {
    "id": "ZawsQcrodRAw"
   },
   "source": [
    "***Adición, inserción, modificación y remoción de elementos de una lista***\n"
   ]
  },
  {
   "cell_type": "code",
   "execution_count": 64,
   "metadata": {
    "colab": {
     "base_uri": "https://localhost:8080/"
    },
    "id": "o-s0S91Lc01M",
    "outputId": "aa738aae-b013-4075-fbc8-ebb47f665ec2"
   },
   "outputs": [
    {
     "name": "stdout",
     "output_type": "stream",
     "text": [
      "['A', 'd', 'd']\n"
     ]
    }
   ],
   "source": [
    "# Creación de una lista vacía\n",
    "l = []\n",
    "\n",
    "# Adición de elementos usando `append`\n",
    "l.append(\"A\")\n",
    "l.append(\"d\")\n",
    "l.append(\"d\")\n",
    "\n",
    "print(l)"
   ]
  },
  {
   "cell_type": "markdown",
   "metadata": {
    "id": "saJ9epsOeOxx"
   },
   "source": [
    "Podemos modificar una lista al asignar nuevos valores a elementos de esa lista, es decir, las listas son *mutables*.\n",
    "\n"
   ]
  },
  {
   "cell_type": "code",
   "execution_count": 65,
   "metadata": {
    "colab": {
     "base_uri": "https://localhost:8080/"
    },
    "id": "E-fLwhIBd_HN",
    "outputId": "0a7162a7-95d9-4dea-ad4b-58bd28bb4bde"
   },
   "outputs": [
    {
     "name": "stdout",
     "output_type": "stream",
     "text": [
      "['A', 'p', 't']\n"
     ]
    }
   ],
   "source": [
    "l[1] = \"p\"\n",
    "l[2] = \"t\"\n",
    "\n",
    "print(l)"
   ]
  },
  {
   "cell_type": "code",
   "execution_count": 66,
   "metadata": {
    "colab": {
     "base_uri": "https://localhost:8080/"
    },
    "id": "TiowOaCUey5H",
    "outputId": "c94a62cd-aa28-4ca8-df44-2b2888980617"
   },
   "outputs": [
    {
     "name": "stdout",
     "output_type": "stream",
     "text": [
      "['A', 's', 'm']\n"
     ]
    }
   ],
   "source": [
    "l[1:3] = [\"s\", \"m\"]\n",
    "\n",
    "print(l)"
   ]
  },
  {
   "cell_type": "markdown",
   "metadata": {
    "id": "91f_Y7k-fy2E"
   },
   "source": [
    "Inserción de elementos mediante `insert`.\n"
   ]
  },
  {
   "cell_type": "code",
   "execution_count": 67,
   "metadata": {
    "colab": {
     "base_uri": "https://localhost:8080/"
    },
    "id": "UBkhSj1le9Ec",
    "outputId": "30e0810d-6797-4f1e-dd4a-3dfbae37180b"
   },
   "outputs": [
    {
     "name": "stdout",
     "output_type": "stream",
     "text": [
      "['i', 'n', 's', 'e', 'r', 't', 'A', 's', 'm']\n"
     ]
    }
   ],
   "source": [
    "l.insert(0, \"i\")\n",
    "l.insert(1, \"n\")\n",
    "l.insert(2, \"s\")\n",
    "l.insert(3, \"e\")\n",
    "l.insert(4, \"r\")\n",
    "l.insert(5, \"t\")\n",
    "\n",
    "print(l)"
   ]
  },
  {
   "cell_type": "markdown",
   "metadata": {
    "id": "A0JcCM5rgL0u"
   },
   "source": [
    "Remoción del primer elemento de un valor específico mendiante `remove`\n",
    "\n"
   ]
  },
  {
   "cell_type": "code",
   "execution_count": 68,
   "metadata": {
    "colab": {
     "base_uri": "https://localhost:8080/"
    },
    "id": "DDPYDJiEgA_d",
    "outputId": "d3caf150-a23e-4a8b-8623-f6eeedb70449"
   },
   "outputs": [
    {
     "name": "stdout",
     "output_type": "stream",
     "text": [
      "['i', 'n', 's', 'e', 'r', 't', 's', 'm']\n"
     ]
    }
   ],
   "source": [
    "l.remove(\"A\")\n",
    "\n",
    "print(l)"
   ]
  },
  {
   "cell_type": "markdown",
   "metadata": {
    "id": "D3vNk4hzgkS_"
   },
   "source": [
    "Remoción de un elemento en una posición específica usando `del`\n",
    "\n"
   ]
  },
  {
   "cell_type": "code",
   "execution_count": 69,
   "metadata": {
    "colab": {
     "base_uri": "https://localhost:8080/"
    },
    "id": "cpHwJ3qrgfjW",
    "outputId": "4aa470e4-ddf8-4076-bbc6-f15a373d1c56"
   },
   "outputs": [
    {
     "name": "stdout",
     "output_type": "stream",
     "text": [
      "['i', 'n', 's', 'e', 'r', 't']\n"
     ]
    }
   ],
   "source": [
    "del l[7]\n",
    "del l[6]\n",
    "\n",
    "print(l)"
   ]
  },
  {
   "cell_type": "markdown",
   "metadata": {
    "id": "eGNjSLD5hAZJ"
   },
   "source": [
    "<p><a name=\"tuples\"></a></p>\n",
    "\n",
    "### 2.5.3. Tuplas\n",
    "\n",
    "[[Secciones]](#sections)\n",
    "\n",
    "Las tuplas son como las listas, excepto que estas no pueden ser modificadas una vez se han creado, es decir, son inmutables.\n",
    "\n",
    "En Python, las tuplas son creadas usando la sintaxis (..., ..., ...), incluso ..., ...:"
   ]
  },
  {
   "cell_type": "code",
   "execution_count": 70,
   "metadata": {
    "colab": {
     "base_uri": "https://localhost:8080/"
    },
    "id": "bgEZfnRug28T",
    "outputId": "74e0ff8b-f3d2-409f-f61e-aa0ff26736f0"
   },
   "outputs": [
    {
     "name": "stdout",
     "output_type": "stream",
     "text": [
      "<class 'tuple'>\n",
      "(10, 20)\n"
     ]
    }
   ],
   "source": [
    "point = (10, 20)\n",
    "\n",
    "print(type(point))\n",
    "print(point)"
   ]
  },
  {
   "cell_type": "markdown",
   "metadata": {
    "id": "Z5icqhC3iQ2-"
   },
   "source": [
    "Si intentamos asignar un nuevo valos a un elemento de la tupla, obtenemos un error:\n",
    "\n"
   ]
  },
  {
   "cell_type": "code",
   "execution_count": 71,
   "metadata": {
    "colab": {
     "base_uri": "https://localhost:8080/"
    },
    "id": "JJiZW6yth9UR",
    "outputId": "5f005a8d-3543-4dc4-c534-7315b15428bf"
   },
   "outputs": [
    {
     "name": "stdout",
     "output_type": "stream",
     "text": [
      "TypeError: 'tuple' object does not support item assignment\n"
     ]
    }
   ],
   "source": [
    "try:\n",
    "    point[0] = 20\n",
    "except(TypeError) as er:\n",
    "    print(\"TypeError:\", er)\n",
    "else:\n",
    "    raise\n"
   ]
  },
  {
   "cell_type": "markdown",
   "metadata": {
    "id": "5VnTnXrfjPBJ"
   },
   "source": [
    "<p><a name=\"diccionarios\"></a></p>\n",
    "\n",
    "### 2.5.4. Diccionarios\n",
    "\n",
    "[[Secciones]](#sections)\n",
    "\n",
    "Los diccionarios son también parecidos a las listas, excepto que cada elemento es una pareja clave-valor. La sintaxis en los diccionarios es de la forma {key1 : value1, ...}:\n",
    "\n"
   ]
  },
  {
   "cell_type": "code",
   "execution_count": 72,
   "metadata": {
    "colab": {
     "base_uri": "https://localhost:8080/"
    },
    "id": "Rdi35F11idbZ",
    "outputId": "b1414493-2bb7-41c8-8632-aebd98760fa6"
   },
   "outputs": [
    {
     "name": "stdout",
     "output_type": "stream",
     "text": [
      "<class 'dict'>\n",
      "{'parameter1': 1.0, 'parameter2': 2.0, 'parameter3': 3.0}\n"
     ]
    }
   ],
   "source": [
    "params = {\"parameter1\" : 1.0,\n",
    "          \"parameter2\" : 2.0,\n",
    "          \"parameter3\" : 3.0,}\n",
    "\n",
    "print(type(params))\n",
    "print(params)"
   ]
  },
  {
   "cell_type": "markdown",
   "metadata": {
    "id": "2PZL5oYdktwF"
   },
   "source": [
    "A las entradas de los diccionarios solo puede accerderse mediante el nombre de la clave.\n"
   ]
  },
  {
   "cell_type": "code",
   "execution_count": 73,
   "metadata": {
    "colab": {
     "base_uri": "https://localhost:8080/"
    },
    "id": "93n0akRtj8nX",
    "outputId": "f90dfa2d-17c3-4172-b24e-14987a3011c9"
   },
   "outputs": [
    {
     "data": {
      "text/plain": [
       "2.0"
      ]
     },
     "execution_count": 73,
     "metadata": {},
     "output_type": "execute_result"
    }
   ],
   "source": [
    "params[\"parameter2\"]"
   ]
  },
  {
   "cell_type": "code",
   "execution_count": 74,
   "metadata": {
    "colab": {
     "base_uri": "https://localhost:8080/"
    },
    "id": "OFMQ9a7SlAMO",
    "outputId": "d04233e4-4a9e-4a58-b28e-73613b47e40e"
   },
   "outputs": [
    {
     "name": "stdout",
     "output_type": "stream",
     "text": [
      "parameter1 = 1.0\n",
      "parameter2 = 2.0\n",
      "parameter3 = 3.0\n"
     ]
    }
   ],
   "source": [
    "print(\"parameter1 = \" + str(params[\"parameter1\"]))\n",
    "print(\"parameter2 = \" + str(params[\"parameter2\"]))\n",
    "print(\"parameter3 = \" + str(params[\"parameter3\"]))"
   ]
  },
  {
   "cell_type": "code",
   "execution_count": 75,
   "metadata": {
    "colab": {
     "base_uri": "https://localhost:8080/"
    },
    "id": "VKmRpnJLlKQE",
    "outputId": "23a10615-98c3-42f5-e045-c015dcd046d9"
   },
   "outputs": [
    {
     "name": "stdout",
     "output_type": "stream",
     "text": [
      "parameter1 = A\n",
      "parameter2 = B\n",
      "parameter3 = 3.0\n",
      "parameter4 = D\n"
     ]
    }
   ],
   "source": [
    "params[\"parameter1\"] = \"A\"\n",
    "params[\"parameter2\"] = \"B\"\n",
    "\n",
    "# add a new entry\n",
    "params[\"parameter4\"] = \"D\"\n",
    "\n",
    "print(\"parameter1 = \" + str(params[\"parameter1\"]))\n",
    "print(\"parameter2 = \" + str(params[\"parameter2\"]))\n",
    "print(\"parameter3 = \" + str(params[\"parameter3\"]))\n",
    "print(\"parameter4 = \" + str(params[\"parameter4\"]))"
   ]
  },
  {
   "cell_type": "markdown",
   "metadata": {
    "id": "5-_4HFRll82Z"
   },
   "source": [
    "<p><a name=\"indent\"></a></p>\n",
    "\n",
    "## 2.6. Identación\n",
    "\n",
    "[[Secciones]](#sections)\n",
    "\n",
    "Los espacios en blanco son importantes en Python. De hecho, los espacios en blanco al comienzo de una línea son importantes. A esto se le conoce como *indentación*. Los espacios en blanco iniciales (espacios y tabuladores) al comienzo de la línea lógica se usan para determinar el nivel de indentación de la línea lógica, que a su vez se usa para determinar la agrupación de declaraciones.\n",
    "\n",
    "\n",
    "Esto significa que las declaraciones que van juntas deben tener la misma indentación, por ejemplo:"
   ]
  },
  {
   "cell_type": "code",
   "execution_count": 76,
   "metadata": {
    "colab": {
     "base_uri": "https://localhost:8080/"
    },
    "id": "0U_oasxHlVgZ",
    "outputId": "2c11922c-88cd-46af-b6bf-5aa2979dc4ba"
   },
   "outputs": [
    {
     "name": "stdout",
     "output_type": "stream",
     "text": [
      "El valor es  5\n",
      "Repetimos, el valor es  5\n"
     ]
    }
   ],
   "source": [
    "i = 5\n",
    "\n",
    "print('El valor es ', i)\n",
    "print('Repetimos, el valor es ', i)"
   ]
  },
  {
   "cell_type": "markdown",
   "metadata": {
    "id": "GaTGvTZvoCOP"
   },
   "source": [
    "Cada uno de estos conjuntos de declaraciones se llama un bloque. Veremos ejemplos de cómo los bloques son importantes más adelante. Una cosa que debes recordar es que la indentación incorrecta conlleva a `IndentationError`."
   ]
  },
  {
   "cell_type": "markdown",
   "metadata": {
    "id": "_VWsFlNkpNRl"
   },
   "source": [
    "<p><a name=\"controlFlow\"></a></p>\n",
    "\n",
    "## 2.7. Control del flujo\n",
    "\n",
    "[[Secciones]](#sections)"
   ]
  },
  {
   "cell_type": "markdown",
   "metadata": {
    "id": "Hsl-lxMFtsmz"
   },
   "source": [
    "<p><a name=\"cond\"></a></p>\n",
    "\n",
    "### 2.7.1. Condicionales: if, elif, else\n",
    "La sintaxis en Python para la ejecución de una condición  consiste en las palabras claves `if`, `elif` (else if), `else`:"
   ]
  },
  {
   "cell_type": "code",
   "execution_count": 77,
   "metadata": {
    "colab": {
     "base_uri": "https://localhost:8080/"
    },
    "id": "CijMmkrpnwvN",
    "outputId": "a30b750a-78c0-4a6d-ea0f-99949cd3696c"
   },
   "outputs": [
    {
     "name": "stdout",
     "output_type": "stream",
     "text": [
      "statement1 y statement2 son Falsos\n"
     ]
    }
   ],
   "source": [
    "statement1 = False\n",
    "statement2 = False\n",
    "\n",
    "if statement1:\n",
    "    print(\"statement1 es Verdadero\")\n",
    "\n",
    "elif statement2:\n",
    "    print(\"statement2 es Verdadero\")\n",
    "\n",
    "else:\n",
    "    print(\"statement1 y statement2 son Falsos\")"
   ]
  },
  {
   "cell_type": "markdown",
   "metadata": {
    "id": "g4MYOnbjgLqz"
   },
   "source": [
    "También podemos tener sentencias if anidadas"
   ]
  },
  {
   "cell_type": "code",
   "execution_count": 78,
   "metadata": {
    "colab": {
     "base_uri": "https://localhost:8080/"
    },
    "id": "wzJJZCW5gUfl",
    "outputId": "e8701978-d7f0-46b4-e504-73b97a26a7d2"
   },
   "outputs": [
    {
     "name": "stdout",
     "output_type": "stream",
     "text": [
      "El valor es menor a 200\n",
      "es 100\n"
     ]
    }
   ],
   "source": [
    "val = 100\n",
    "if val < 200:\n",
    "  print(\"El valor es menor a 200\")\n",
    "  if val == 150:\n",
    "    print(\"es 150\")\n",
    "  elif val == 100:\n",
    "    print(\"es 100\")\n",
    "  elif val == 50:\n",
    "    print(\"es 50\")\n",
    "  elif val < 50:\n",
    "    print(\"el valor es menor a 50\")\n",
    "else:\n",
    "  print(\"El valor es mayor a 200\")"
   ]
  },
  {
   "cell_type": "markdown",
   "metadata": {
    "id": "IxgWwr6vYMCM"
   },
   "source": [
    "<p><a name=\"iter\"></a></p>\n",
    "\n",
    "## 2.8. Iteraciones y ciclos lógicos\n",
    "\n",
    "En general, las instrucciones se ejecutan secuencialmente: la primera instrucción en una función se ejecuta primero, seguida de la segunda, y así sucesivamente. Puede haber una situación en la que necesite ejecutar un bloque de código varias veces.  Una instrucción de bucle nos permite ejecutar una instrucción o un grupo de instrucciones varias veces."
   ]
  },
  {
   "cell_type": "markdown",
   "metadata": {
    "id": "bU9DzFzicuXY"
   },
   "source": [
    "<p><a name=\"cicl\"></a></p>\n",
    "\n",
    "### 2.8.1. Ciclos for y while"
   ]
  },
  {
   "cell_type": "markdown",
   "metadata": {
    "id": "A7mB-8Ldo9O2"
   },
   "source": [
    "El ciclo for ejecuta una secuencia de sentencias un número determinado de veces"
   ]
  },
  {
   "cell_type": "code",
   "execution_count": 79,
   "metadata": {
    "colab": {
     "base_uri": "https://localhost:8080/"
    },
    "id": "hw_Zr8GljpKi",
    "outputId": "78c1cfb8-76ad-44ff-b200-1fe2ee6fb655"
   },
   "outputs": [
    {
     "data": {
      "text/plain": [
       "range(0, 5)"
      ]
     },
     "execution_count": 79,
     "metadata": {},
     "output_type": "execute_result"
    }
   ],
   "source": [
    "range(5)"
   ]
  },
  {
   "cell_type": "code",
   "execution_count": 80,
   "metadata": {
    "colab": {
     "base_uri": "https://localhost:8080/"
    },
    "id": "HGzBCk8mczIu",
    "outputId": "ca7c3c54-a33d-4ff4-f2a8-7a620213a0e2"
   },
   "outputs": [
    {
     "name": "stdout",
     "output_type": "stream",
     "text": [
      "i= 0 suma= 0\n",
      "i= 1 suma= 1\n",
      "i= 2 suma= 3\n",
      "i= 3 suma= 6\n",
      "i= 4 suma= 10\n"
     ]
    }
   ],
   "source": [
    "suma=0\n",
    "for i in range(5):\n",
    "  suma+=i\n",
    "  print('i=',i,'suma=',suma)"
   ]
  },
  {
   "cell_type": "markdown",
   "metadata": {
    "id": "0leX5evmkofI"
   },
   "source": [
    "También podemos iterar sobre listas"
   ]
  },
  {
   "cell_type": "code",
   "execution_count": 81,
   "metadata": {
    "colab": {
     "base_uri": "https://localhost:8080/"
    },
    "id": "3C6vX-KOkrH8",
    "outputId": "51b60407-3203-4ebc-b07f-2a752d03205d"
   },
   "outputs": [
    {
     "name": "stdout",
     "output_type": "stream",
     "text": [
      "a\n",
      "e\n",
      "i\n",
      "o\n",
      "u\n"
     ]
    }
   ],
   "source": [
    "vocales=[\"a\",\"e\",\"i\", \"o\",\"u\"]\n",
    "for i in vocales:\n",
    "  print(i)"
   ]
  },
  {
   "cell_type": "code",
   "execution_count": 82,
   "metadata": {
    "colab": {
     "base_uri": "https://localhost:8080/"
    },
    "id": "zx-Pfhtgk8Ah",
    "outputId": "dbcbb783-f10e-43b8-a4fa-8c1b5e5ff9e4"
   },
   "outputs": [
    {
     "name": "stdout",
     "output_type": "stream",
     "text": [
      "0 a\n",
      "1 e\n",
      "2 i\n",
      "3 o\n",
      "4 u\n"
     ]
    }
   ],
   "source": [
    "for i in range(len(vocales)):\n",
    "  print (i,vocales[i])"
   ]
  },
  {
   "cell_type": "markdown",
   "metadata": {
    "id": "Oxq9vHErojz2"
   },
   "source": [
    "El ciclo while repite una sentencia o grupo de sentencias mientras una condición dada es TRUE. Prueba la condición antes de ejecutar el cuerpo del ciclo."
   ]
  },
  {
   "cell_type": "code",
   "execution_count": 83,
   "metadata": {
    "colab": {
     "base_uri": "https://localhost:8080/"
    },
    "id": "SiD67duwleAu",
    "outputId": "c07c040d-7ee8-4dfd-fccf-f68d6002b6ec"
   },
   "outputs": [
    {
     "name": "stdout",
     "output_type": "stream",
     "text": [
      "c= 4 se cumple la condición\n",
      "c= 3 se cumple la condición\n",
      "c= 2 se cumple la condición\n",
      "c= 1 se cumple la condición\n"
     ]
    }
   ],
   "source": [
    "c = 4\n",
    "while c > 0:\n",
    "  print('c=',c,'se cumple la condición')\n",
    "  c-=1"
   ]
  },
  {
   "cell_type": "markdown",
   "metadata": {
    "id": "USL7zCWvpv6h"
   },
   "source": [
    "Podemos tener varias condiciones"
   ]
  },
  {
   "cell_type": "code",
   "execution_count": 84,
   "metadata": {
    "colab": {
     "base_uri": "https://localhost:8080/"
    },
    "id": "Mx9taaJUp4Gk",
    "outputId": "0f3ff80f-222c-4458-8f4e-ab0a676d0991"
   },
   "outputs": [
    {
     "name": "stdout",
     "output_type": "stream",
     "text": [
      "Voy a hacerlo 9 veces más\n",
      "Voy a hacerlo 8 veces más\n",
      "Voy a hacerlo 7 veces más\n",
      "Voy a hacerlo 6 veces más\n",
      "Voy a hacerlo 5 veces más\n",
      "Voy en 4\n",
      "Voy a hacerlo 3 veces más\n",
      "Voy a hacerlo 2 veces más\n",
      "Voy a hacerlo 1 veces más\n",
      "¡Este es el último!\n"
     ]
    }
   ],
   "source": [
    "c = 10\n",
    "while c > 0:\n",
    "  if c > 1 and c!=5:\n",
    "    print (\"Voy a hacerlo \"+str(c-1)+\" veces más\")\n",
    "  elif c==5:\n",
    "    print('Voy en '+str(c-1))\n",
    "  else:\n",
    "    print (\"¡Este es el último!\")\n",
    "  c -= 1 #c=c-1"
   ]
  },
  {
   "cell_type": "markdown",
   "metadata": {
    "id": "hOLaH_FrpXlJ"
   },
   "source": [
    "Podemos usar uno o más ciclos dentro de otro. Esto lo conocemos como ciclos anidados\n"
   ]
  },
  {
   "cell_type": "code",
   "execution_count": 85,
   "metadata": {
    "colab": {
     "base_uri": "https://localhost:8080/"
    },
    "id": "cVhZf3jPpkRi",
    "outputId": "abc1849e-ec5e-4a6e-b5f2-0466b5a4ecae"
   },
   "outputs": [
    {
     "name": "stdout",
     "output_type": "stream",
     "text": [
      "i: 0 j: 0\n",
      "i: 0 j: 1\n",
      "i: 0 j: 2\n",
      "i: 0 j: 3\n",
      "i: 0 j: 4\n",
      "i: 1 j: 0\n",
      "i: 1 j: 1\n",
      "i: 1 j: 2\n",
      "i: 1 j: 3\n",
      "i: 1 j: 4\n"
     ]
    }
   ],
   "source": [
    "for i in range(2):\n",
    "  for j in range(5):\n",
    "    print(\"i: %d j: %d\" %(i,j))"
   ]
  },
  {
   "cell_type": "markdown",
   "metadata": {
    "id": "9fPm2y08dG_4"
   },
   "source": [
    "<p><a name=\"contr\"></a></p>\n",
    "\n",
    "### 2.8.2. Sentencias de control de ciclo: break y continue.\n"
   ]
  },
  {
   "cell_type": "markdown",
   "metadata": {
    "id": "RXO98upa4bFY"
   },
   "source": [
    "Las sentencias de control de ciclo cambian la ejecución de su secuencia normal. Cuando la ejecución deja un ámbito, todos los objetos automáticos que se crearon en ese ámbito se destruyen."
   ]
  },
  {
   "cell_type": "markdown",
   "metadata": {
    "id": "YpKFrGYh5Rhx"
   },
   "source": [
    "La sentencia de control *break* termina el ciclo actual y reanuda la ejecución en la siguiente instrucción.\n",
    "\n"
   ]
  },
  {
   "cell_type": "code",
   "execution_count": 86,
   "metadata": {
    "colab": {
     "base_uri": "https://localhost:8080/"
    },
    "id": "yKQo-97mdNJw",
    "outputId": "4817184a-9bfa-4eb1-e147-5e9f37261759"
   },
   "outputs": [
    {
     "name": "stdout",
     "output_type": "stream",
     "text": [
      "a\n",
      "e\n",
      "i\n"
     ]
    }
   ],
   "source": [
    "for i in vocales:\n",
    "  if i==\"o\":\n",
    "    break\n",
    "  print(i)"
   ]
  },
  {
   "cell_type": "markdown",
   "metadata": {
    "id": "GkNGlxJ46S8-"
   },
   "source": [
    "La sentencia de control *continue* rechaza todas las declaraciones restantes en la iteración actual del ciclo y mueve el control de nuevo a la parte superior de este\n",
    "\n",
    "\n"
   ]
  },
  {
   "cell_type": "code",
   "execution_count": 87,
   "metadata": {
    "colab": {
     "base_uri": "https://localhost:8080/"
    },
    "id": "KxBFJyYu6qiT",
    "outputId": "0a892af5-2a67-4ddc-8eab-d2518c0e8fc2"
   },
   "outputs": [
    {
     "name": "stdout",
     "output_type": "stream",
     "text": [
      "a\n",
      "e\n",
      "i\n",
      "u\n"
     ]
    }
   ],
   "source": [
    "for i in vocales:\n",
    "  if i==\"o\":\n",
    "    continue\n",
    "  print(i)"
   ]
  },
  {
   "cell_type": "markdown",
   "metadata": {
    "id": "vpfhHZd9eiOF"
   },
   "source": [
    "<p><a name=\"func\"></a></p>\n",
    "\n",
    "## 2.9. Funciones y clases"
   ]
  },
  {
   "cell_type": "markdown",
   "metadata": {
    "id": "UQMFQFuy9XCo"
   },
   "source": [
    "<p><a name=\"funci\"></a></p>\n",
    "\n",
    "### 2.9.1. Funciones\n",
    "\n",
    "Una función es un bloque de código organizado y reutilizable que se utiliza para realizar una única acción relacionada. Las funciones proporcionan una mejor modularidad para su aplicación y un alto grado de reutilización de código.\n",
    "\n",
    ">`def Nombre(arg1,arg2,...):`\n",
    ">> `sentencias`"
   ]
  },
  {
   "cell_type": "markdown",
   "metadata": {
    "id": "3aNX6kn2Cjuq"
   },
   "source": [
    "Definamos la función exponencial $a^b$"
   ]
  },
  {
   "cell_type": "code",
   "execution_count": 88,
   "metadata": {
    "colab": {
     "base_uri": "https://localhost:8080/"
    },
    "id": "9GaLlcUceoC2",
    "outputId": "4e927a52-09b4-40a9-c084-8a57a4b91169"
   },
   "outputs": [
    {
     "name": "stdout",
     "output_type": "stream",
     "text": [
      "4\n"
     ]
    }
   ],
   "source": [
    "def Exp(a,b):\n",
    "  exp = a**b\n",
    "  print(exp)\n",
    "  return\n",
    "\n",
    "Exp(2,2)"
   ]
  },
  {
   "cell_type": "markdown",
   "metadata": {
    "id": "69ukeYx6CweR"
   },
   "source": [
    "La sentencia *return* termina la función,  devolviendo opcionalmente uno o varios valores. Una declaración de retorno sin argumentos es lo mismo que devolver *none* (como en el caso anterior)"
   ]
  },
  {
   "cell_type": "code",
   "execution_count": 89,
   "metadata": {
    "colab": {
     "base_uri": "https://localhost:8080/"
    },
    "id": "cgWrwPmf-MCk",
    "outputId": "3599e37e-f43e-4b49-c9d9-20dda005ab31"
   },
   "outputs": [
    {
     "name": "stdout",
     "output_type": "stream",
     "text": [
      "4 <class 'int'>\n",
      "(4, 5, 6) <class 'tuple'>\n"
     ]
    }
   ],
   "source": [
    "def Exp(a,b):\n",
    "  return a**b\n",
    "\n",
    "def Exp2(a,b):\n",
    "  return a**b,a**b+1,a**b+2\n",
    "\n",
    "print(Exp(2,2),type(Exp(2,2)))\n",
    "\n",
    "print(Exp2(2,2),type(Exp2(2,2)))\n"
   ]
  },
  {
   "cell_type": "markdown",
   "metadata": {
    "id": "qA5jEatkIJUU"
   },
   "source": [
    "<p><a name=\"class\"></a></p>\n",
    "\n",
    "### 2.9.2 Clases\n",
    "\n",
    "Las clases proporcionan un medio de agrupar datos y \"funcionalidad\". La creación de una nueva clase crea un nuevo tipo de objeto, lo que permite crear nuevas *instancias* de ese tipo. Cada instancia de la clase puede tener sus propios atributos. Las instancias de una clase también pueden tener *métodos* (definidos por su clase) para modificar su estado.\n",
    "\n",
    ">class Name():\n",
    ">>sentencias"
   ]
  },
  {
   "cell_type": "markdown",
   "metadata": {
    "id": "-loYl6I1JaGB"
   },
   "source": [
    "Los atributos son como propiedades que queremos añadir a la clase"
   ]
  },
  {
   "cell_type": "code",
   "execution_count": 90,
   "metadata": {
    "id": "IJEykQm3JtnC"
   },
   "outputs": [],
   "source": [
    "class Auto():\n",
    "  marca = ''\n",
    "  color = ''"
   ]
  },
  {
   "cell_type": "markdown",
   "metadata": {
    "id": "jxuP0t7xJ940"
   },
   "source": [
    "Creemos un objeto de la clase Auto con algunos atributos"
   ]
  },
  {
   "cell_type": "code",
   "execution_count": 91,
   "metadata": {
    "colab": {
     "base_uri": "https://localhost:8080/"
    },
    "id": "6pPE3CZ5KBqU",
    "outputId": "88e15f0b-adfa-41e2-d27c-c811dab29843"
   },
   "outputs": [
    {
     "name": "stdout",
     "output_type": "stream",
     "text": [
      "ferrari\n",
      "rojo\n"
     ]
    }
   ],
   "source": [
    "mi_auto = Auto()\n",
    "mi_auto.marca = 'ferrari'\n",
    "mi_auto.color = 'rojo'\n",
    "\n",
    "print(mi_auto.marca)\n",
    "print(mi_auto.color)"
   ]
  },
  {
   "cell_type": "markdown",
   "metadata": {
    "id": "YS5NKSJ4LXPb"
   },
   "source": [
    "Dentro de las clases podemos definir funciones, conocidas como *métodos*"
   ]
  },
  {
   "cell_type": "code",
   "execution_count": 92,
   "metadata": {
    "colab": {
     "base_uri": "https://localhost:8080/"
    },
    "id": "bXc_GQGHKgV8",
    "outputId": "7ea68576-c59b-4589-c47c-1375b97839f0"
   },
   "outputs": [
    {
     "name": "stdout",
     "output_type": "stream",
     "text": [
      "nombre: carolina\n",
      "edad: 20\n"
     ]
    }
   ],
   "source": [
    "class Persona():\n",
    "  nombre = ''\n",
    "  edad = ''\n",
    "\n",
    "  def print_nombre(self):\n",
    "    print('nombre:',self.nombre)\n",
    "\n",
    "  def print_edad(self):\n",
    "    print('edad:',self.edad)\n",
    "\n",
    "carolina = Persona()\n",
    "carolina.nombre = 'carolina'\n",
    "carolina.edad = 20\n",
    "\n",
    "carolina.print_nombre()\n",
    "carolina.print_edad()"
   ]
  },
  {
   "cell_type": "markdown",
   "metadata": {
    "id": "MZJkf1TLNb2l"
   },
   "source": [
    "Los métodos necesitan tener un argumento convenientemente llamado self, que se refiere al objeto del método que está siendo llamado. Podemos pasar más de un argumento si así lo deseamos"
   ]
  },
  {
   "cell_type": "code",
   "execution_count": 93,
   "metadata": {
    "colab": {
     "base_uri": "https://localhost:8080/"
    },
    "id": "zj_xJIzwMwS4",
    "outputId": "8940c62f-95bf-471d-c1ae-c749c78c7139"
   },
   "outputs": [
    {
     "name": "stdout",
     "output_type": "stream",
     "text": [
      "nombre: carlos\n",
      "edad: 30\n"
     ]
    }
   ],
   "source": [
    "class Persona:\n",
    "    nombre = ''\n",
    "    edad = ''\n",
    "\n",
    "    def print_informacion(self, nombre, edad):\n",
    "        print('nombre:',self.nombre)\n",
    "        print('edad:',self.edad)\n",
    "\n",
    "carlos = Persona()\n",
    "carlos.nombre = 'carlos'\n",
    "carlos.edad = '30'\n",
    "carlos.print_informacion(carlos.nombre, carlos.edad)"
   ]
  },
  {
   "cell_type": "markdown",
   "metadata": {
    "id": "KOtePNB7P_5U"
   },
   "source": [
    "La operación de creación de instancias crea un objeto vacío. A muchas clases les gusta crear objetos con instancias personalizadas a un estado inicial específico. Por lo tanto, una clase puede definir un método especial llamado __init __ (), como este:"
   ]
  },
  {
   "cell_type": "code",
   "execution_count": 94,
   "metadata": {
    "colab": {
     "base_uri": "https://localhost:8080/"
    },
    "id": "K7DpEV9hN-JK",
    "outputId": "b2a76136-2877-40d4-da94-f8954cdbe6a1"
   },
   "outputs": [
    {
     "name": "stdout",
     "output_type": "stream",
     "text": [
      "nombre: mario\n",
      "edad: 55\n"
     ]
    }
   ],
   "source": [
    "class Person:\n",
    "  def __init__(self,n,e):\n",
    "    self.nombre = n\n",
    "    self.edad = e\n",
    "\n",
    "mario = Person('mario','55')\n",
    "print('nombre:',mario.nombre)\n",
    "print('edad:',mario.edad)"
   ]
  },
  {
   "cell_type": "markdown",
   "metadata": {
    "id": "J7ZQBUmLX-5W"
   },
   "source": [
    "<p><a name=\"inout\"></a></p>\n",
    "\n",
    "## 2.10. Archivos de entrada y salida"
   ]
  },
  {
   "cell_type": "markdown",
   "metadata": {
    "id": "l77fqeASuu8M"
   },
   "source": [
    "<p><a name=\"lecte\"></a></p>\n",
    "\n",
    "### 2.10.1. Lectura de entrada de teclado\n",
    "\n",
    "Python proporciona una función integrada <code>input()</code> para leer una línea de texto de la entrada estándar"
   ]
  },
  {
   "cell_type": "code",
   "execution_count": 95,
   "metadata": {
    "colab": {
     "base_uri": "https://localhost:8080/"
    },
    "id": "_BlE3ChRwLWw",
    "outputId": "9aea4248-3afb-43fc-b48f-e4b18240378b"
   },
   "outputs": [
    {
     "name": "stdout",
     "output_type": "stream",
     "text": [
      "Ingresa un número 1\n",
      "El número que ingresaste es: 1\n"
     ]
    },
    {
     "data": {
      "text/plain": [
       "str"
      ]
     },
     "execution_count": 95,
     "metadata": {},
     "output_type": "execute_result"
    }
   ],
   "source": [
    "a = input('Ingresa un número ')\n",
    "print('El número que ingresaste es:',a)\n",
    "type(a)\n"
   ]
  },
  {
   "cell_type": "markdown",
   "metadata": {
    "id": "VdQ-axsMvc3j"
   },
   "source": [
    "\n",
    "independientemente de lo que ingrese como entrada, la función <code>input()</code> siempre lo convierte en una cadena de caracteres. Podemos utilizar las funciones <code>int()</code> y <code>float()</code> para obtener enteros y números de punto flotante respectivamente"
   ]
  },
  {
   "cell_type": "code",
   "execution_count": 96,
   "metadata": {
    "colab": {
     "base_uri": "https://localhost:8080/"
    },
    "id": "PiGCw4Hhvjle",
    "outputId": "2a78dd58-0f9c-4ce7-aaa3-4124f5009a19"
   },
   "outputs": [
    {
     "name": "stdout",
     "output_type": "stream",
     "text": [
      "Ingresa in unúmero1\n",
      "1 <class 'int'>\n",
      "Ingresa un número1\n",
      "1.0 <class 'float'>\n"
     ]
    }
   ],
   "source": [
    "numero_entero = int(input('Ingresa in unúmero'))\n",
    "print(numero_entero,type(numero_entero))\n",
    "\n",
    "numero_pflotante = float(input('Ingresa un número'))\n",
    "print(numero_pflotante,type(numero_pflotante))"
   ]
  },
  {
   "cell_type": "markdown",
   "metadata": {
    "id": "ijXdq98t2MNv"
   },
   "source": [
    "<p><a name=\"apyci\"></a></p>\n",
    "\n",
    "### 2.10.2. Apertura y cierre de archivos\n",
    "\n",
    "Python proporciona funciones básicas y métodos necesarios para manipular archivos de forma predeterminada. Se puede realizar la mayor parte de la manipulación de archivos utilizando un objeto tipo <code>file</code>. Antes de poder leer o escribir un archivo, debemos abrirlo con la función <code> open() </code>incorporada de Python. Para cerrarlo utilizamos la función <code>close()</code>."
   ]
  },
  {
   "cell_type": "code",
   "execution_count": 97,
   "metadata": {
    "colab": {
     "base_uri": "https://localhost:8080/"
    },
    "id": "CbZ12uaW4Caf",
    "outputId": "5752f37e-0b7a-48a7-dfea-8d91a172f257"
   },
   "outputs": [
    {
     "name": "stdout",
     "output_type": "stream",
     "text": [
      "Nombre del archivo:  foo.txt\n",
      "Modo con el que se abrió el archivo: w\n",
      "Cerrado: False\n",
      "Cerrado: True\n"
     ]
    }
   ],
   "source": [
    "fo = open(\"foo.txt\", \"w\")\n",
    "print(\"Nombre del archivo: \", fo.name)\n",
    "print('Modo con el que se abrió el archivo:',fo.mode)\n",
    "print('Cerrado:',fo.closed)\n",
    "fo.close()\n",
    "print('Cerrado:',fo.closed)"
   ]
  },
  {
   "cell_type": "markdown",
   "metadata": {
    "id": "ytfz7pN746NF"
   },
   "source": [
    "Modos comunes: w (Escritura), r (Lectura), a (Añadir)"
   ]
  },
  {
   "cell_type": "markdown",
   "metadata": {
    "id": "WEzHJDo92r3N"
   },
   "source": [
    "<p><a name=\"leyes\"></a></p>\n",
    "\n",
    "### 2.10.3. Leer y escribir archivos\n",
    "\n",
    "El objeto <code>file</code> proporciona un conjunto de métodos de acceso para facilitar nuestras vidas. Veríamos cómo usar los métodos <code>write()</code> y <code>read()</code> para leer y escribir archivos."
   ]
  },
  {
   "cell_type": "code",
   "execution_count": 98,
   "metadata": {
    "colab": {
     "base_uri": "https://localhost:8080/"
    },
    "id": "uBBeOHSi6ZdQ",
    "outputId": "0df0e6f0-c4b3-40af-805c-83d11a60e3ef"
   },
   "outputs": [
    {
     "name": "stdout",
     "output_type": "stream",
     "text": [
      "¡Hola \n",
      " mundo!"
     ]
    }
   ],
   "source": [
    "fo = open(\"foo.txt\", \"w\")\n",
    "fo.write( \"¡Hola \\n mundo!\")\n",
    "fo.close()\n",
    "\n",
    "!cat foo.txt"
   ]
  },
  {
   "cell_type": "code",
   "execution_count": 99,
   "metadata": {
    "colab": {
     "base_uri": "https://localhost:8080/"
    },
    "id": "g0XC6crT7DQ0",
    "outputId": "4c9ecd11-5380-4bee-ab32-7512a6672a77"
   },
   "outputs": [
    {
     "name": "stdout",
     "output_type": "stream",
     "text": [
      "¡Hola \n",
      "\n"
     ]
    }
   ],
   "source": [
    "fo = open(\"foo.txt\", \"r\")\n",
    "\n",
    "print(fo.readline())\n",
    "\n",
    "#print(fo.read())\n",
    "\n",
    "#print(fo.read(2))\n",
    "\n",
    "fo.close()"
   ]
  },
  {
   "cell_type": "markdown",
   "metadata": {
    "id": "pikqdJs-YKu3"
   },
   "source": [
    "<p><a name=\"subar\"></a></p>\n",
    "\n",
    "### 2.10.4. Subir archivos locales\n",
    "\n",
    "El método <code>files.upload</code> devolverá un diccionario de los archivos que se han subido. Al diccionario se le asignará el nombre del archivo como clave y los valores serán los datos que se han subido (los archivos permanecen en la máquina virtual por 12 horas)"
   ]
  },
  {
   "cell_type": "code",
   "execution_count": 100,
   "metadata": {
    "colab": {
     "base_uri": "https://localhost:8080/",
     "height": 38
    },
    "id": "NTmx_P9EYDVd",
    "outputId": "68cab681-f0f3-4ffc-f7e6-f874769ba92f"
   },
   "outputs": [
    {
     "data": {
      "text/html": [
       "\n",
       "     <input type=\"file\" id=\"files-aedc3cd5-1d71-475b-9703-835a5f718583\" name=\"files[]\" multiple disabled\n",
       "        style=\"border:none\" />\n",
       "     <output id=\"result-aedc3cd5-1d71-475b-9703-835a5f718583\">\n",
       "      Upload widget is only available when the cell has been executed in the\n",
       "      current browser session. Please rerun this cell to enable.\n",
       "      </output>\n",
       "      <script>// Copyright 2017 Google LLC\n",
       "//\n",
       "// Licensed under the Apache License, Version 2.0 (the \"License\");\n",
       "// you may not use this file except in compliance with the License.\n",
       "// You may obtain a copy of the License at\n",
       "//\n",
       "//      http://www.apache.org/licenses/LICENSE-2.0\n",
       "//\n",
       "// Unless required by applicable law or agreed to in writing, software\n",
       "// distributed under the License is distributed on an \"AS IS\" BASIS,\n",
       "// WITHOUT WARRANTIES OR CONDITIONS OF ANY KIND, either express or implied.\n",
       "// See the License for the specific language governing permissions and\n",
       "// limitations under the License.\n",
       "\n",
       "/**\n",
       " * @fileoverview Helpers for google.colab Python module.\n",
       " */\n",
       "(function(scope) {\n",
       "function span(text, styleAttributes = {}) {\n",
       "  const element = document.createElement('span');\n",
       "  element.textContent = text;\n",
       "  for (const key of Object.keys(styleAttributes)) {\n",
       "    element.style[key] = styleAttributes[key];\n",
       "  }\n",
       "  return element;\n",
       "}\n",
       "\n",
       "// Max number of bytes which will be uploaded at a time.\n",
       "const MAX_PAYLOAD_SIZE = 100 * 1024;\n",
       "\n",
       "function _uploadFiles(inputId, outputId) {\n",
       "  const steps = uploadFilesStep(inputId, outputId);\n",
       "  const outputElement = document.getElementById(outputId);\n",
       "  // Cache steps on the outputElement to make it available for the next call\n",
       "  // to uploadFilesContinue from Python.\n",
       "  outputElement.steps = steps;\n",
       "\n",
       "  return _uploadFilesContinue(outputId);\n",
       "}\n",
       "\n",
       "// This is roughly an async generator (not supported in the browser yet),\n",
       "// where there are multiple asynchronous steps and the Python side is going\n",
       "// to poll for completion of each step.\n",
       "// This uses a Promise to block the python side on completion of each step,\n",
       "// then passes the result of the previous step as the input to the next step.\n",
       "function _uploadFilesContinue(outputId) {\n",
       "  const outputElement = document.getElementById(outputId);\n",
       "  const steps = outputElement.steps;\n",
       "\n",
       "  const next = steps.next(outputElement.lastPromiseValue);\n",
       "  return Promise.resolve(next.value.promise).then((value) => {\n",
       "    // Cache the last promise value to make it available to the next\n",
       "    // step of the generator.\n",
       "    outputElement.lastPromiseValue = value;\n",
       "    return next.value.response;\n",
       "  });\n",
       "}\n",
       "\n",
       "/**\n",
       " * Generator function which is called between each async step of the upload\n",
       " * process.\n",
       " * @param {string} inputId Element ID of the input file picker element.\n",
       " * @param {string} outputId Element ID of the output display.\n",
       " * @return {!Iterable<!Object>} Iterable of next steps.\n",
       " */\n",
       "function* uploadFilesStep(inputId, outputId) {\n",
       "  const inputElement = document.getElementById(inputId);\n",
       "  inputElement.disabled = false;\n",
       "\n",
       "  const outputElement = document.getElementById(outputId);\n",
       "  outputElement.innerHTML = '';\n",
       "\n",
       "  const pickedPromise = new Promise((resolve) => {\n",
       "    inputElement.addEventListener('change', (e) => {\n",
       "      resolve(e.target.files);\n",
       "    });\n",
       "  });\n",
       "\n",
       "  const cancel = document.createElement('button');\n",
       "  inputElement.parentElement.appendChild(cancel);\n",
       "  cancel.textContent = 'Cancel upload';\n",
       "  const cancelPromise = new Promise((resolve) => {\n",
       "    cancel.onclick = () => {\n",
       "      resolve(null);\n",
       "    };\n",
       "  });\n",
       "\n",
       "  // Wait for the user to pick the files.\n",
       "  const files = yield {\n",
       "    promise: Promise.race([pickedPromise, cancelPromise]),\n",
       "    response: {\n",
       "      action: 'starting',\n",
       "    }\n",
       "  };\n",
       "\n",
       "  cancel.remove();\n",
       "\n",
       "  // Disable the input element since further picks are not allowed.\n",
       "  inputElement.disabled = true;\n",
       "\n",
       "  if (!files) {\n",
       "    return {\n",
       "      response: {\n",
       "        action: 'complete',\n",
       "      }\n",
       "    };\n",
       "  }\n",
       "\n",
       "  for (const file of files) {\n",
       "    const li = document.createElement('li');\n",
       "    li.append(span(file.name, {fontWeight: 'bold'}));\n",
       "    li.append(span(\n",
       "        `(${file.type || 'n/a'}) - ${file.size} bytes, ` +\n",
       "        `last modified: ${\n",
       "            file.lastModifiedDate ? file.lastModifiedDate.toLocaleDateString() :\n",
       "                                    'n/a'} - `));\n",
       "    const percent = span('0% done');\n",
       "    li.appendChild(percent);\n",
       "\n",
       "    outputElement.appendChild(li);\n",
       "\n",
       "    const fileDataPromise = new Promise((resolve) => {\n",
       "      const reader = new FileReader();\n",
       "      reader.onload = (e) => {\n",
       "        resolve(e.target.result);\n",
       "      };\n",
       "      reader.readAsArrayBuffer(file);\n",
       "    });\n",
       "    // Wait for the data to be ready.\n",
       "    let fileData = yield {\n",
       "      promise: fileDataPromise,\n",
       "      response: {\n",
       "        action: 'continue',\n",
       "      }\n",
       "    };\n",
       "\n",
       "    // Use a chunked sending to avoid message size limits. See b/62115660.\n",
       "    let position = 0;\n",
       "    do {\n",
       "      const length = Math.min(fileData.byteLength - position, MAX_PAYLOAD_SIZE);\n",
       "      const chunk = new Uint8Array(fileData, position, length);\n",
       "      position += length;\n",
       "\n",
       "      const base64 = btoa(String.fromCharCode.apply(null, chunk));\n",
       "      yield {\n",
       "        response: {\n",
       "          action: 'append',\n",
       "          file: file.name,\n",
       "          data: base64,\n",
       "        },\n",
       "      };\n",
       "\n",
       "      let percentDone = fileData.byteLength === 0 ?\n",
       "          100 :\n",
       "          Math.round((position / fileData.byteLength) * 100);\n",
       "      percent.textContent = `${percentDone}% done`;\n",
       "\n",
       "    } while (position < fileData.byteLength);\n",
       "  }\n",
       "\n",
       "  // All done.\n",
       "  yield {\n",
       "    response: {\n",
       "      action: 'complete',\n",
       "    }\n",
       "  };\n",
       "}\n",
       "\n",
       "scope.google = scope.google || {};\n",
       "scope.google.colab = scope.google.colab || {};\n",
       "scope.google.colab._files = {\n",
       "  _uploadFiles,\n",
       "  _uploadFilesContinue,\n",
       "};\n",
       "})(self);\n",
       "</script> "
      ],
      "text/plain": [
       "<IPython.core.display.HTML object>"
      ]
     },
     "metadata": {},
     "output_type": "display_data"
    }
   ],
   "source": [
    "from google.colab import files\n",
    "\n",
    "uploaded = files.upload()"
   ]
  },
  {
   "cell_type": "markdown",
   "metadata": {
    "id": "Izd6XV1VZC31"
   },
   "source": [
    "<p><a name=\"des\"></a></p>\n",
    "\n",
    "### 2.10.5. Descargar archivos en tu sistema local\n",
    "\n",
    "El método <code>files.download</code> invocará al navegador para que descargue el archivo en tu ordenador local."
   ]
  },
  {
   "cell_type": "code",
   "execution_count": 101,
   "metadata": {
    "colab": {
     "base_uri": "https://localhost:8080/",
     "height": 17
    },
    "id": "yrPSVqGjY-JJ",
    "outputId": "a0b29be9-6d1a-4020-ce89-c4bab2c66691"
   },
   "outputs": [
    {
     "data": {
      "application/javascript": [
       "\n",
       "    async function download(id, filename, size) {\n",
       "      if (!google.colab.kernel.accessAllowed) {\n",
       "        return;\n",
       "      }\n",
       "      const div = document.createElement('div');\n",
       "      const label = document.createElement('label');\n",
       "      label.textContent = `Downloading \"${filename}\": `;\n",
       "      div.appendChild(label);\n",
       "      const progress = document.createElement('progress');\n",
       "      progress.max = size;\n",
       "      div.appendChild(progress);\n",
       "      document.body.appendChild(div);\n",
       "\n",
       "      const buffers = [];\n",
       "      let downloaded = 0;\n",
       "\n",
       "      const channel = await google.colab.kernel.comms.open(id);\n",
       "      // Send a message to notify the kernel that we're ready.\n",
       "      channel.send({})\n",
       "\n",
       "      for await (const message of channel.messages) {\n",
       "        // Send a message to notify the kernel that we're ready.\n",
       "        channel.send({})\n",
       "        if (message.buffers) {\n",
       "          for (const buffer of message.buffers) {\n",
       "            buffers.push(buffer);\n",
       "            downloaded += buffer.byteLength;\n",
       "            progress.value = downloaded;\n",
       "          }\n",
       "        }\n",
       "      }\n",
       "      const blob = new Blob(buffers, {type: 'application/binary'});\n",
       "      const a = document.createElement('a');\n",
       "      a.href = window.URL.createObjectURL(blob);\n",
       "      a.download = filename;\n",
       "      div.appendChild(a);\n",
       "      a.click();\n",
       "      div.remove();\n",
       "    }\n",
       "  "
      ],
      "text/plain": [
       "<IPython.core.display.Javascript object>"
      ]
     },
     "metadata": {},
     "output_type": "display_data"
    },
    {
     "data": {
      "application/javascript": [
       "download(\"download_66eeb122-c7ca-42d1-89cd-38f84a70c512\", \"example.txt\", 12)"
      ],
      "text/plain": [
       "<IPython.core.display.Javascript object>"
      ]
     },
     "metadata": {},
     "output_type": "display_data"
    }
   ],
   "source": [
    "from google.colab import files\n",
    "\n",
    "with open('example.txt', 'w') as f:\n",
    "  f.write('some content')\n",
    "\n",
    "files.download('example.txt')"
   ]
  },
  {
   "cell_type": "markdown",
   "metadata": {
    "id": "Nn1gvaOJ-TWs"
   },
   "source": [
    "<p><a name=\"goodr\"></a></p>\n",
    "\n",
    "### 2.10.6. Google drive: Paquete PyDrive"
   ]
  },
  {
   "cell_type": "markdown",
   "metadata": {
    "id": "zRhwvA69E1Mk"
   },
   "source": [
    "Instalamos el paquete"
   ]
  },
  {
   "cell_type": "code",
   "execution_count": 102,
   "metadata": {
    "colab": {
     "base_uri": "https://localhost:8080/"
    },
    "id": "3MqqWLOc_g95",
    "outputId": "97bcf1b9-6a58-40a0-e6f3-11351989eeac"
   },
   "outputs": [
    {
     "name": "stderr",
     "output_type": "stream",
     "text": [
      "WARNING:root:pydrive is deprecated and no longer maintained. We recommend that you migrate your projects to pydrive2, the maintained fork of pydrive\n"
     ]
    }
   ],
   "source": [
    "!pip install --upgrade --quiet PyDrive\n",
    "\n",
    "from pydrive.auth import GoogleAuth\n",
    "from pydrive.drive import GoogleDrive\n",
    "from google.colab import auth\n",
    "from oauth2client.client import GoogleCredentials"
   ]
  },
  {
   "cell_type": "markdown",
   "metadata": {
    "id": "cF_5W_5rE3X6"
   },
   "source": [
    "Nos autenticamos"
   ]
  },
  {
   "cell_type": "code",
   "execution_count": 103,
   "metadata": {
    "colab": {
     "base_uri": "https://localhost:8080/",
     "height": 356
    },
    "id": "KiU3s2gKALvq",
    "outputId": "21be4ed3-d553-4dd6-f260-3e3863c0ed51"
   },
   "outputs": [
    {
     "ename": "MessageError",
     "evalue": "Error: credential propagation was unsuccessful",
     "output_type": "error",
     "traceback": [
      "\u001b[0;31m---------------------------------------------------------------------------\u001b[0m",
      "\u001b[0;31mMessageError\u001b[0m                              Traceback (most recent call last)",
      "\u001b[0;32m<ipython-input-103-3254a9bed9fd>\u001b[0m in \u001b[0;36m<cell line: 1>\u001b[0;34m()\u001b[0m\n\u001b[0;32m----> 1\u001b[0;31m \u001b[0mauth\u001b[0m\u001b[0;34m.\u001b[0m\u001b[0mauthenticate_user\u001b[0m\u001b[0;34m(\u001b[0m\u001b[0;34m)\u001b[0m\u001b[0;34m\u001b[0m\u001b[0;34m\u001b[0m\u001b[0m\n\u001b[0m\u001b[1;32m      2\u001b[0m \u001b[0mgauth\u001b[0m \u001b[0;34m=\u001b[0m \u001b[0mGoogleAuth\u001b[0m\u001b[0;34m(\u001b[0m\u001b[0;34m)\u001b[0m\u001b[0;34m\u001b[0m\u001b[0;34m\u001b[0m\u001b[0m\n\u001b[1;32m      3\u001b[0m \u001b[0mgauth\u001b[0m\u001b[0;34m.\u001b[0m\u001b[0mcredentials\u001b[0m \u001b[0;34m=\u001b[0m \u001b[0mGoogleCredentials\u001b[0m\u001b[0;34m.\u001b[0m\u001b[0mget_application_default\u001b[0m\u001b[0;34m(\u001b[0m\u001b[0;34m)\u001b[0m\u001b[0;34m\u001b[0m\u001b[0;34m\u001b[0m\u001b[0m\n\u001b[1;32m      4\u001b[0m \u001b[0mdrive\u001b[0m \u001b[0;34m=\u001b[0m \u001b[0mGoogleDrive\u001b[0m\u001b[0;34m(\u001b[0m\u001b[0mgauth\u001b[0m\u001b[0;34m)\u001b[0m\u001b[0;34m\u001b[0m\u001b[0;34m\u001b[0m\u001b[0m\n",
      "\u001b[0;32m/usr/local/lib/python3.10/dist-packages/google/colab/auth.py\u001b[0m in \u001b[0;36mauthenticate_user\u001b[0;34m(clear_output, project_id)\u001b[0m\n\u001b[1;32m    258\u001b[0m   \u001b[0;32mif\u001b[0m \u001b[0;32mnot\u001b[0m \u001b[0m_check_adc\u001b[0m\u001b[0;34m(\u001b[0m\u001b[0m_CredentialType\u001b[0m\u001b[0;34m.\u001b[0m\u001b[0mUSER\u001b[0m\u001b[0;34m)\u001b[0m\u001b[0;34m:\u001b[0m\u001b[0;34m\u001b[0m\u001b[0;34m\u001b[0m\u001b[0m\n\u001b[1;32m    259\u001b[0m     \u001b[0;32mif\u001b[0m \u001b[0muse_auth_ephem\u001b[0m\u001b[0;34m:\u001b[0m\u001b[0;34m\u001b[0m\u001b[0;34m\u001b[0m\u001b[0m\n\u001b[0;32m--> 260\u001b[0;31m       _message.blocking_request(\n\u001b[0m\u001b[1;32m    261\u001b[0m           \u001b[0;34m'request_auth'\u001b[0m\u001b[0;34m,\u001b[0m\u001b[0;34m\u001b[0m\u001b[0;34m\u001b[0m\u001b[0m\n\u001b[1;32m    262\u001b[0m           \u001b[0mrequest\u001b[0m\u001b[0;34m=\u001b[0m\u001b[0;34m{\u001b[0m\u001b[0;34m'authType'\u001b[0m\u001b[0;34m:\u001b[0m \u001b[0;34m'auth_user_ephemeral'\u001b[0m\u001b[0;34m}\u001b[0m\u001b[0;34m,\u001b[0m\u001b[0;34m\u001b[0m\u001b[0;34m\u001b[0m\u001b[0m\n",
      "\u001b[0;32m/usr/local/lib/python3.10/dist-packages/google/colab/_message.py\u001b[0m in \u001b[0;36mblocking_request\u001b[0;34m(request_type, request, timeout_sec, parent)\u001b[0m\n\u001b[1;32m    174\u001b[0m       \u001b[0mrequest_type\u001b[0m\u001b[0;34m,\u001b[0m \u001b[0mrequest\u001b[0m\u001b[0;34m,\u001b[0m \u001b[0mparent\u001b[0m\u001b[0;34m=\u001b[0m\u001b[0mparent\u001b[0m\u001b[0;34m,\u001b[0m \u001b[0mexpect_reply\u001b[0m\u001b[0;34m=\u001b[0m\u001b[0;32mTrue\u001b[0m\u001b[0;34m\u001b[0m\u001b[0;34m\u001b[0m\u001b[0m\n\u001b[1;32m    175\u001b[0m   )\n\u001b[0;32m--> 176\u001b[0;31m   \u001b[0;32mreturn\u001b[0m \u001b[0mread_reply_from_input\u001b[0m\u001b[0;34m(\u001b[0m\u001b[0mrequest_id\u001b[0m\u001b[0;34m,\u001b[0m \u001b[0mtimeout_sec\u001b[0m\u001b[0;34m)\u001b[0m\u001b[0;34m\u001b[0m\u001b[0;34m\u001b[0m\u001b[0m\n\u001b[0m",
      "\u001b[0;32m/usr/local/lib/python3.10/dist-packages/google/colab/_message.py\u001b[0m in \u001b[0;36mread_reply_from_input\u001b[0;34m(message_id, timeout_sec)\u001b[0m\n\u001b[1;32m    101\u001b[0m     ):\n\u001b[1;32m    102\u001b[0m       \u001b[0;32mif\u001b[0m \u001b[0;34m'error'\u001b[0m \u001b[0;32min\u001b[0m \u001b[0mreply\u001b[0m\u001b[0;34m:\u001b[0m\u001b[0;34m\u001b[0m\u001b[0;34m\u001b[0m\u001b[0m\n\u001b[0;32m--> 103\u001b[0;31m         \u001b[0;32mraise\u001b[0m \u001b[0mMessageError\u001b[0m\u001b[0;34m(\u001b[0m\u001b[0mreply\u001b[0m\u001b[0;34m[\u001b[0m\u001b[0;34m'error'\u001b[0m\u001b[0;34m]\u001b[0m\u001b[0;34m)\u001b[0m\u001b[0;34m\u001b[0m\u001b[0;34m\u001b[0m\u001b[0m\n\u001b[0m\u001b[1;32m    104\u001b[0m       \u001b[0;32mreturn\u001b[0m \u001b[0mreply\u001b[0m\u001b[0;34m.\u001b[0m\u001b[0mget\u001b[0m\u001b[0;34m(\u001b[0m\u001b[0;34m'data'\u001b[0m\u001b[0;34m,\u001b[0m \u001b[0;32mNone\u001b[0m\u001b[0;34m)\u001b[0m\u001b[0;34m\u001b[0m\u001b[0;34m\u001b[0m\u001b[0m\n\u001b[1;32m    105\u001b[0m \u001b[0;34m\u001b[0m\u001b[0m\n",
      "\u001b[0;31mMessageError\u001b[0m: Error: credential propagation was unsuccessful"
     ]
    }
   ],
   "source": [
    "auth.authenticate_user()\n",
    "gauth = GoogleAuth()\n",
    "gauth.credentials = GoogleCredentials.get_application_default()\n",
    "drive = GoogleDrive(gauth)"
   ]
  },
  {
   "cell_type": "markdown",
   "metadata": {
    "id": "5yUUmDgcE7Mo"
   },
   "source": [
    "Subir un archivo al Drive"
   ]
  },
  {
   "cell_type": "code",
   "execution_count": null,
   "metadata": {
    "id": "TPkzJMQVAOyJ"
   },
   "outputs": [],
   "source": [
    "uploaded = drive.CreateFile({'title': 'Sample upload.txt'})\n",
    "uploaded.SetContentString('Sample upload file content')\n",
    "uploaded.Upload()\n",
    "print('Uploaded file with ID {}'.format(uploaded.get('id')))"
   ]
  },
  {
   "cell_type": "markdown",
   "metadata": {
    "id": "JEt98VsOFBAK"
   },
   "source": [
    "Descargar un archivo del Drive"
   ]
  },
  {
   "cell_type": "code",
   "execution_count": null,
   "metadata": {
    "id": "MbI6V0SxARFB"
   },
   "outputs": [],
   "source": [
    "i='1kKIxeYVO6Ixe4TNxrmwDgSvVrBMHel37'\n",
    "downloaded = drive.CreateFile({'id': i})\n",
    "downloaded.GetContentFile('Sample upload.txt')\n",
    "print('Downloaded content \"{}\"'.format(downloaded.GetContentString()))"
   ]
  },
  {
   "cell_type": "code",
   "execution_count": null,
   "metadata": {
    "id": "WyKkP9xYATfr"
   },
   "outputs": [],
   "source": [
    "#la \"id\" es lo que va después del = : https://drive.google.com/open?id=1kKIxeYVO6Ixe4TNxrmwDgSvVrBMHel37"
   ]
  },
  {
   "cell_type": "markdown",
   "metadata": {
    "id": "LHzmX7lUFdzN"
   },
   "source": [
    "<p><a name=\"git\"></a></p>\n",
    "\n",
    "### 2.10.7 Github"
   ]
  },
  {
   "cell_type": "code",
   "execution_count": null,
   "metadata": {
    "id": "4vB7YMcLFhm7"
   },
   "outputs": [],
   "source": [
    "!git clone https://github.com/username/repositorio"
   ]
  }
 ],
 "metadata": {
  "colab": {
   "provenance": []
  },
  "kernelspec": {
   "display_name": "Python 3 (ipykernel)",
   "language": "python",
   "name": "python3"
  },
  "language_info": {
   "codemirror_mode": {
    "name": "ipython",
    "version": 3
   },
   "file_extension": ".py",
   "mimetype": "text/x-python",
   "name": "python",
   "nbconvert_exporter": "python",
   "pygments_lexer": "ipython3",
   "version": "3.12.4"
  }
 },
 "nbformat": 4,
 "nbformat_minor": 4
}
