{
 "cells": [
  {
   "cell_type": "code",
   "execution_count": 1,
   "id": "cf722404",
   "metadata": {},
   "outputs": [],
   "source": [
    "## mean, median, mode, standard deviation, variance, quartiles, range, min, max"
   ]
  },
  {
   "cell_type": "code",
   "execution_count": 5,
   "id": "71ec0700",
   "metadata": {},
   "outputs": [],
   "source": [
    "import pandas as pd\n",
    "df = pd.read_excel(\"C:/Users/Andres/Desktop/Python/PandasBootCamp2022/datos_ventas.xlsx\")"
   ]
  },
  {
   "cell_type": "code",
   "execution_count": 11,
   "id": "18da7b04",
   "metadata": {},
   "outputs": [
    {
     "data": {
      "text/html": [
       "<div>\n",
       "<style scoped>\n",
       "    .dataframe tbody tr th:only-of-type {\n",
       "        vertical-align: middle;\n",
       "    }\n",
       "\n",
       "    .dataframe tbody tr th {\n",
       "        vertical-align: top;\n",
       "    }\n",
       "\n",
       "    .dataframe thead th {\n",
       "        text-align: right;\n",
       "    }\n",
       "</style>\n",
       "<table border=\"1\" class=\"dataframe\">\n",
       "  <thead>\n",
       "    <tr style=\"text-align: right;\">\n",
       "      <th></th>\n",
       "      <th>Producto</th>\n",
       "      <th>Categoría</th>\n",
       "      <th>Precio</th>\n",
       "      <th>Cantidad</th>\n",
       "      <th>Fecha</th>\n",
       "      <th>Ciudad</th>\n",
       "    </tr>\n",
       "  </thead>\n",
       "  <tbody>\n",
       "    <tr>\n",
       "      <th>0</th>\n",
       "      <td>Televisor</td>\n",
       "      <td>Electrónica</td>\n",
       "      <td>500</td>\n",
       "      <td>2</td>\n",
       "      <td>2024-09-01</td>\n",
       "      <td>Madrid</td>\n",
       "    </tr>\n",
       "    <tr>\n",
       "      <th>1</th>\n",
       "      <td>Laptop</td>\n",
       "      <td>Electrónica</td>\n",
       "      <td>900</td>\n",
       "      <td>1</td>\n",
       "      <td>2024-09-02</td>\n",
       "      <td>Barcelona</td>\n",
       "    </tr>\n",
       "    <tr>\n",
       "      <th>2</th>\n",
       "      <td>Lavadora</td>\n",
       "      <td>Electrodomésticos</td>\n",
       "      <td>600</td>\n",
       "      <td>3</td>\n",
       "      <td>2024-09-03</td>\n",
       "      <td>Valencia</td>\n",
       "    </tr>\n",
       "    <tr>\n",
       "      <th>3</th>\n",
       "      <td>Móvil</td>\n",
       "      <td>Electrónica</td>\n",
       "      <td>400</td>\n",
       "      <td>5</td>\n",
       "      <td>2024-09-04</td>\n",
       "      <td>Sevilla</td>\n",
       "    </tr>\n",
       "    <tr>\n",
       "      <th>4</th>\n",
       "      <td>Secadora</td>\n",
       "      <td>Electrodomésticos</td>\n",
       "      <td>450</td>\n",
       "      <td>2</td>\n",
       "      <td>2024-09-05</td>\n",
       "      <td>Bilbao</td>\n",
       "    </tr>\n",
       "  </tbody>\n",
       "</table>\n",
       "</div>"
      ],
      "text/plain": [
       "    Producto          Categoría  Precio  Cantidad       Fecha     Ciudad\n",
       "0  Televisor        Electrónica     500         2  2024-09-01     Madrid\n",
       "1     Laptop        Electrónica     900         1  2024-09-02  Barcelona\n",
       "2   Lavadora  Electrodomésticos     600         3  2024-09-03   Valencia\n",
       "3      Móvil        Electrónica     400         5  2024-09-04    Sevilla\n",
       "4   Secadora  Electrodomésticos     450         2  2024-09-05     Bilbao"
      ]
     },
     "execution_count": 11,
     "metadata": {},
     "output_type": "execute_result"
    }
   ],
   "source": [
    "df.head()"
   ]
  },
  {
   "cell_type": "markdown",
   "id": "dac66ab6",
   "metadata": {},
   "source": [
    "Mean"
   ]
  },
  {
   "cell_type": "code",
   "execution_count": 9,
   "id": "caffd7f6",
   "metadata": {},
   "outputs": [
    {
     "data": {
      "text/plain": [
       "333.8888888888889"
      ]
     },
     "execution_count": 9,
     "metadata": {},
     "output_type": "execute_result"
    }
   ],
   "source": [
    "df['Precio'].mean()"
   ]
  },
  {
   "cell_type": "code",
   "execution_count": 10,
   "id": "95d8bfbe",
   "metadata": {},
   "outputs": [
    {
     "data": {
      "text/plain": [
       "333.8888888888889"
      ]
     },
     "execution_count": 10,
     "metadata": {},
     "output_type": "execute_result"
    }
   ],
   "source": [
    "df['Precio'].sum() / df.shape[0] ## Son la misma formula, solo que enfocada en una funcion ya predefinida."
   ]
  },
  {
   "cell_type": "markdown",
   "id": "4f130e1d",
   "metadata": {},
   "source": [
    "Median"
   ]
  },
  {
   "cell_type": "code",
   "execution_count": 12,
   "id": "a80b6c8d",
   "metadata": {},
   "outputs": [
    {
     "data": {
      "text/plain": [
       "240.0"
      ]
     },
     "execution_count": 12,
     "metadata": {},
     "output_type": "execute_result"
    }
   ],
   "source": [
    "df['Precio'].median()"
   ]
  },
  {
   "cell_type": "code",
   "execution_count": 16,
   "id": "ad36a781",
   "metadata": {},
   "outputs": [
    {
     "data": {
      "text/plain": [
       "Precio      240.0\n",
       "Cantidad      5.0\n",
       "dtype: float64"
      ]
     },
     "execution_count": 16,
     "metadata": {},
     "output_type": "execute_result"
    }
   ],
   "source": [
    "df[['Precio', 'Cantidad']].median() # Se puede conseguir la mediana de varias columnas."
   ]
  },
  {
   "cell_type": "markdown",
   "id": "1d8ac5ea",
   "metadata": {},
   "source": [
    "Mode"
   ]
  },
  {
   "cell_type": "code",
   "execution_count": 17,
   "id": "db381f0b",
   "metadata": {},
   "outputs": [
    {
     "data": {
      "text/plain": [
       "0    2\n",
       "Name: Cantidad, dtype: int64"
      ]
     },
     "execution_count": 17,
     "metadata": {},
     "output_type": "execute_result"
    }
   ],
   "source": [
    "df['Cantidad'].mode() # La moda o el valor que mas se repite."
   ]
  },
  {
   "cell_type": "markdown",
   "id": "829db93f",
   "metadata": {},
   "source": [
    "Variance and std"
   ]
  },
  {
   "cell_type": "code",
   "execution_count": 18,
   "id": "b51a2384",
   "metadata": {},
   "outputs": [
    {
     "data": {
      "text/plain": [
       "290.85197574517485"
      ]
     },
     "execution_count": 18,
     "metadata": {},
     "output_type": "execute_result"
    }
   ],
   "source": [
    "df['Precio'].std()"
   ]
  },
  {
   "cell_type": "code",
   "execution_count": 19,
   "id": "987ea76c",
   "metadata": {},
   "outputs": [
    {
     "data": {
      "text/plain": [
       "84594.87179487178"
      ]
     },
     "execution_count": 19,
     "metadata": {},
     "output_type": "execute_result"
    }
   ],
   "source": [
    "df['Precio'].var()"
   ]
  },
  {
   "cell_type": "markdown",
   "id": "30f27905",
   "metadata": {},
   "source": [
    "Quartiles and interquartiles."
   ]
  },
  {
   "cell_type": "code",
   "execution_count": 21,
   "id": "c06ad1da",
   "metadata": {},
   "outputs": [
    {
     "data": {
      "text/plain": [
       "7.199999999999999"
      ]
     },
     "execution_count": 21,
     "metadata": {},
     "output_type": "execute_result"
    }
   ],
   "source": [
    "df['Cantidad'].quantile(0.70)"
   ]
  },
  {
   "cell_type": "code",
   "execution_count": null,
   "id": "e2c131b1",
   "metadata": {},
   "outputs": [],
   "source": []
  }
 ],
 "metadata": {
  "kernelspec": {
   "display_name": "Python 3 (ipykernel)",
   "language": "python",
   "name": "python3"
  },
  "language_info": {
   "codemirror_mode": {
    "name": "ipython",
    "version": 3
   },
   "file_extension": ".py",
   "mimetype": "text/x-python",
   "name": "python",
   "nbconvert_exporter": "python",
   "pygments_lexer": "ipython3",
   "version": "3.11.4"
  }
 },
 "nbformat": 4,
 "nbformat_minor": 5
}
