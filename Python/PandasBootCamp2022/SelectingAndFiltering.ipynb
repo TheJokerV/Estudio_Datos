{
 "cells": [
  {
   "cell_type": "code",
   "execution_count": 1,
   "id": "ca5c7647",
   "metadata": {},
   "outputs": [],
   "source": [
    "import pandas as pd"
   ]
  },
  {
   "cell_type": "code",
   "execution_count": 11,
   "id": "3001cc0c",
   "metadata": {},
   "outputs": [],
   "source": [
    "sales = pd.read_excel(\"C:/Users/Andres/Desktop/Python/PandasBootCamp2022/datos_ventas.xlsx\")"
   ]
  },
  {
   "cell_type": "code",
   "execution_count": 12,
   "id": "5e707636",
   "metadata": {},
   "outputs": [
    {
     "data": {
      "text/html": [
       "<div>\n",
       "<style scoped>\n",
       "    .dataframe tbody tr th:only-of-type {\n",
       "        vertical-align: middle;\n",
       "    }\n",
       "\n",
       "    .dataframe tbody tr th {\n",
       "        vertical-align: top;\n",
       "    }\n",
       "\n",
       "    .dataframe thead th {\n",
       "        text-align: right;\n",
       "    }\n",
       "</style>\n",
       "<table border=\"1\" class=\"dataframe\">\n",
       "  <thead>\n",
       "    <tr style=\"text-align: right;\">\n",
       "      <th></th>\n",
       "      <th>Producto</th>\n",
       "      <th>Categoría</th>\n",
       "      <th>Precio</th>\n",
       "      <th>Cantidad</th>\n",
       "      <th>Fecha</th>\n",
       "      <th>Ciudad</th>\n",
       "    </tr>\n",
       "  </thead>\n",
       "  <tbody>\n",
       "    <tr>\n",
       "      <th>0</th>\n",
       "      <td>Televisor</td>\n",
       "      <td>Electrónica</td>\n",
       "      <td>500</td>\n",
       "      <td>2</td>\n",
       "      <td>2024-09-01</td>\n",
       "      <td>Madrid</td>\n",
       "    </tr>\n",
       "    <tr>\n",
       "      <th>1</th>\n",
       "      <td>Laptop</td>\n",
       "      <td>Electrónica</td>\n",
       "      <td>900</td>\n",
       "      <td>1</td>\n",
       "      <td>2024-09-02</td>\n",
       "      <td>Barcelona</td>\n",
       "    </tr>\n",
       "    <tr>\n",
       "      <th>2</th>\n",
       "      <td>Lavadora</td>\n",
       "      <td>Electrodomésticos</td>\n",
       "      <td>600</td>\n",
       "      <td>3</td>\n",
       "      <td>2024-09-03</td>\n",
       "      <td>Valencia</td>\n",
       "    </tr>\n",
       "    <tr>\n",
       "      <th>3</th>\n",
       "      <td>Móvil</td>\n",
       "      <td>Electrónica</td>\n",
       "      <td>400</td>\n",
       "      <td>5</td>\n",
       "      <td>2024-09-04</td>\n",
       "      <td>Sevilla</td>\n",
       "    </tr>\n",
       "    <tr>\n",
       "      <th>4</th>\n",
       "      <td>Secadora</td>\n",
       "      <td>Electrodomésticos</td>\n",
       "      <td>450</td>\n",
       "      <td>2</td>\n",
       "      <td>2024-09-05</td>\n",
       "      <td>Bilbao</td>\n",
       "    </tr>\n",
       "  </tbody>\n",
       "</table>\n",
       "</div>"
      ],
      "text/plain": [
       "    Producto          Categoría  Precio  Cantidad       Fecha     Ciudad\n",
       "0  Televisor        Electrónica     500         2  2024-09-01     Madrid\n",
       "1     Laptop        Electrónica     900         1  2024-09-02  Barcelona\n",
       "2   Lavadora  Electrodomésticos     600         3  2024-09-03   Valencia\n",
       "3      Móvil        Electrónica     400         5  2024-09-04    Sevilla\n",
       "4   Secadora  Electrodomésticos     450         2  2024-09-05     Bilbao"
      ]
     },
     "execution_count": 12,
     "metadata": {},
     "output_type": "execute_result"
    }
   ],
   "source": [
    "sales.head()"
   ]
  },
  {
   "cell_type": "code",
   "execution_count": 13,
   "id": "bfeaffdd",
   "metadata": {},
   "outputs": [
    {
     "data": {
      "text/html": [
       "<div>\n",
       "<style scoped>\n",
       "    .dataframe tbody tr th:only-of-type {\n",
       "        vertical-align: middle;\n",
       "    }\n",
       "\n",
       "    .dataframe tbody tr th {\n",
       "        vertical-align: top;\n",
       "    }\n",
       "\n",
       "    .dataframe thead th {\n",
       "        text-align: right;\n",
       "    }\n",
       "</style>\n",
       "<table border=\"1\" class=\"dataframe\">\n",
       "  <thead>\n",
       "    <tr style=\"text-align: right;\">\n",
       "      <th></th>\n",
       "      <th>Producto</th>\n",
       "      <th>Categoría</th>\n",
       "      <th>Precio</th>\n",
       "      <th>Cantidad</th>\n",
       "      <th>Fecha</th>\n",
       "      <th>Ciudad</th>\n",
       "    </tr>\n",
       "  </thead>\n",
       "  <tbody>\n",
       "    <tr>\n",
       "      <th>22</th>\n",
       "      <td>Nevera</td>\n",
       "      <td>Electrodomésticos</td>\n",
       "      <td>850</td>\n",
       "      <td>2</td>\n",
       "      <td>2024-09-23</td>\n",
       "      <td>Sevilla</td>\n",
       "    </tr>\n",
       "    <tr>\n",
       "      <th>23</th>\n",
       "      <td>Tablet</td>\n",
       "      <td>Electrónica</td>\n",
       "      <td>240</td>\n",
       "      <td>5</td>\n",
       "      <td>2024-09-24</td>\n",
       "      <td>Bilbao</td>\n",
       "    </tr>\n",
       "    <tr>\n",
       "      <th>24</th>\n",
       "      <td>Impresora</td>\n",
       "      <td>Electrónica</td>\n",
       "      <td>130</td>\n",
       "      <td>7</td>\n",
       "      <td>2024-09-25</td>\n",
       "      <td>Madrid</td>\n",
       "    </tr>\n",
       "    <tr>\n",
       "      <th>25</th>\n",
       "      <td>Microondas</td>\n",
       "      <td>Electrodomésticos</td>\n",
       "      <td>90</td>\n",
       "      <td>8</td>\n",
       "      <td>2024-09-26</td>\n",
       "      <td>Valencia</td>\n",
       "    </tr>\n",
       "    <tr>\n",
       "      <th>26</th>\n",
       "      <td>Freidora</td>\n",
       "      <td>Hogar</td>\n",
       "      <td>65</td>\n",
       "      <td>10</td>\n",
       "      <td>2024-09-27</td>\n",
       "      <td>Barcelona</td>\n",
       "    </tr>\n",
       "  </tbody>\n",
       "</table>\n",
       "</div>"
      ],
      "text/plain": [
       "      Producto          Categoría  Precio  Cantidad       Fecha     Ciudad\n",
       "22      Nevera  Electrodomésticos     850         2  2024-09-23    Sevilla\n",
       "23      Tablet        Electrónica     240         5  2024-09-24     Bilbao\n",
       "24   Impresora        Electrónica     130         7  2024-09-25     Madrid\n",
       "25  Microondas  Electrodomésticos      90         8  2024-09-26   Valencia\n",
       "26    Freidora              Hogar      65        10  2024-09-27  Barcelona"
      ]
     },
     "execution_count": 13,
     "metadata": {},
     "output_type": "execute_result"
    }
   ],
   "source": [
    "sales.tail()"
   ]
  },
  {
   "cell_type": "code",
   "execution_count": 16,
   "id": "cb66fafe",
   "metadata": {},
   "outputs": [
    {
     "data": {
      "text/html": [
       "<div>\n",
       "<style scoped>\n",
       "    .dataframe tbody tr th:only-of-type {\n",
       "        vertical-align: middle;\n",
       "    }\n",
       "\n",
       "    .dataframe tbody tr th {\n",
       "        vertical-align: top;\n",
       "    }\n",
       "\n",
       "    .dataframe thead th {\n",
       "        text-align: right;\n",
       "    }\n",
       "</style>\n",
       "<table border=\"1\" class=\"dataframe\">\n",
       "  <thead>\n",
       "    <tr style=\"text-align: right;\">\n",
       "      <th></th>\n",
       "      <th>Producto</th>\n",
       "      <th>Precio</th>\n",
       "    </tr>\n",
       "  </thead>\n",
       "  <tbody>\n",
       "    <tr>\n",
       "      <th>0</th>\n",
       "      <td>Televisor</td>\n",
       "      <td>500</td>\n",
       "    </tr>\n",
       "    <tr>\n",
       "      <th>1</th>\n",
       "      <td>Laptop</td>\n",
       "      <td>900</td>\n",
       "    </tr>\n",
       "    <tr>\n",
       "      <th>2</th>\n",
       "      <td>Lavadora</td>\n",
       "      <td>600</td>\n",
       "    </tr>\n",
       "    <tr>\n",
       "      <th>3</th>\n",
       "      <td>Móvil</td>\n",
       "      <td>400</td>\n",
       "    </tr>\n",
       "    <tr>\n",
       "      <th>4</th>\n",
       "      <td>Secadora</td>\n",
       "      <td>450</td>\n",
       "    </tr>\n",
       "  </tbody>\n",
       "</table>\n",
       "</div>"
      ],
      "text/plain": [
       "    Producto  Precio\n",
       "0  Televisor     500\n",
       "1     Laptop     900\n",
       "2   Lavadora     600\n",
       "3      Móvil     400\n",
       "4   Secadora     450"
      ]
     },
     "execution_count": 16,
     "metadata": {},
     "output_type": "execute_result"
    }
   ],
   "source": [
    "sales[['Producto', 'Precio']].head()"
   ]
  },
  {
   "cell_type": "code",
   "execution_count": 20,
   "id": "91ec8f42",
   "metadata": {},
   "outputs": [
    {
     "data": {
      "text/html": [
       "<div>\n",
       "<style scoped>\n",
       "    .dataframe tbody tr th:only-of-type {\n",
       "        vertical-align: middle;\n",
       "    }\n",
       "\n",
       "    .dataframe tbody tr th {\n",
       "        vertical-align: top;\n",
       "    }\n",
       "\n",
       "    .dataframe thead th {\n",
       "        text-align: right;\n",
       "    }\n",
       "</style>\n",
       "<table border=\"1\" class=\"dataframe\">\n",
       "  <thead>\n",
       "    <tr style=\"text-align: right;\">\n",
       "      <th></th>\n",
       "      <th>Producto</th>\n",
       "      <th>Categoría</th>\n",
       "      <th>Precio</th>\n",
       "      <th>Cantidad</th>\n",
       "      <th>Fecha</th>\n",
       "      <th>Ciudad</th>\n",
       "    </tr>\n",
       "  </thead>\n",
       "  <tbody>\n",
       "    <tr>\n",
       "      <th>3</th>\n",
       "      <td>Móvil</td>\n",
       "      <td>Electrónica</td>\n",
       "      <td>400</td>\n",
       "      <td>5</td>\n",
       "      <td>2024-09-04</td>\n",
       "      <td>Sevilla</td>\n",
       "    </tr>\n",
       "    <tr>\n",
       "      <th>4</th>\n",
       "      <td>Secadora</td>\n",
       "      <td>Electrodomésticos</td>\n",
       "      <td>450</td>\n",
       "      <td>2</td>\n",
       "      <td>2024-09-05</td>\n",
       "      <td>Bilbao</td>\n",
       "    </tr>\n",
       "    <tr>\n",
       "      <th>5</th>\n",
       "      <td>Microondas</td>\n",
       "      <td>Electrodomésticos</td>\n",
       "      <td>100</td>\n",
       "      <td>10</td>\n",
       "      <td>2024-09-06</td>\n",
       "      <td>Málaga</td>\n",
       "    </tr>\n",
       "    <tr>\n",
       "      <th>6</th>\n",
       "      <td>Auriculares</td>\n",
       "      <td>Electrónica</td>\n",
       "      <td>80</td>\n",
       "      <td>15</td>\n",
       "      <td>2024-09-07</td>\n",
       "      <td>Zaragoza</td>\n",
       "    </tr>\n",
       "    <tr>\n",
       "      <th>7</th>\n",
       "      <td>Nevera</td>\n",
       "      <td>Electrodomésticos</td>\n",
       "      <td>800</td>\n",
       "      <td>1</td>\n",
       "      <td>2024-09-08</td>\n",
       "      <td>Madrid</td>\n",
       "    </tr>\n",
       "    <tr>\n",
       "      <th>8</th>\n",
       "      <td>Tablet</td>\n",
       "      <td>Electrónica</td>\n",
       "      <td>250</td>\n",
       "      <td>8</td>\n",
       "      <td>2024-09-09</td>\n",
       "      <td>Valencia</td>\n",
       "    </tr>\n",
       "    <tr>\n",
       "      <th>9</th>\n",
       "      <td>Cafetera</td>\n",
       "      <td>Hogar</td>\n",
       "      <td>60</td>\n",
       "      <td>7</td>\n",
       "      <td>2024-09-10</td>\n",
       "      <td>Barcelona</td>\n",
       "    </tr>\n",
       "  </tbody>\n",
       "</table>\n",
       "</div>"
      ],
      "text/plain": [
       "      Producto          Categoría  Precio  Cantidad       Fecha     Ciudad\n",
       "3        Móvil        Electrónica     400         5  2024-09-04    Sevilla\n",
       "4     Secadora  Electrodomésticos     450         2  2024-09-05     Bilbao\n",
       "5   Microondas  Electrodomésticos     100        10  2024-09-06     Málaga\n",
       "6  Auriculares        Electrónica      80        15  2024-09-07   Zaragoza\n",
       "7       Nevera  Electrodomésticos     800         1  2024-09-08     Madrid\n",
       "8       Tablet        Electrónica     250         8  2024-09-09   Valencia\n",
       "9     Cafetera              Hogar      60         7  2024-09-10  Barcelona"
      ]
     },
     "execution_count": 20,
     "metadata": {},
     "output_type": "execute_result"
    }
   ],
   "source": [
    "sales[3:10]  ##FROM : UNTIL."
   ]
  },
  {
   "cell_type": "markdown",
   "id": "105ae3fc",
   "metadata": {},
   "source": [
    "<h1> CLASS 6 </h1>"
   ]
  },
  {
   "cell_type": "code",
   "execution_count": 21,
   "id": "0f7ca91b",
   "metadata": {},
   "outputs": [
    {
     "data": {
      "text/plain": [
       "Index(['Producto', 'Categoría', 'Precio', 'Cantidad', 'Fecha', 'Ciudad'], dtype='object')"
      ]
     },
     "execution_count": 21,
     "metadata": {},
     "output_type": "execute_result"
    }
   ],
   "source": [
    "sales.columns"
   ]
  },
  {
   "cell_type": "code",
   "execution_count": 22,
   "id": "15751c30",
   "metadata": {},
   "outputs": [
    {
     "data": {
      "text/plain": [
       "Producto             Altavoces\n",
       "Categoría    Electrodomésticos\n",
       "Precio                      30\n",
       "Cantidad                     1\n",
       "Fecha               2024-09-01\n",
       "Ciudad               Barcelona\n",
       "dtype: object"
      ]
     },
     "execution_count": 22,
     "metadata": {},
     "output_type": "execute_result"
    }
   ],
   "source": [
    "sales.min()\n",
    "\n",
    "##sales['Precio'].min() ##Se puede llamar el valor minimo de una columna en especifico."
   ]
  },
  {
   "cell_type": "code",
   "execution_count": 23,
   "id": "3babd2dd",
   "metadata": {},
   "outputs": [
    {
     "data": {
      "text/plain": [
       "Producto      Televisor\n",
       "Categoría         Hogar\n",
       "Precio              950\n",
       "Cantidad             20\n",
       "Fecha        2024-09-27\n",
       "Ciudad         Zaragoza\n",
       "dtype: object"
      ]
     },
     "execution_count": 23,
     "metadata": {},
     "output_type": "execute_result"
    }
   ],
   "source": [
    "sales.max()"
   ]
  },
  {
   "cell_type": "code",
   "execution_count": 25,
   "id": "8785aac0",
   "metadata": {},
   "outputs": [
    {
     "data": {
      "text/plain": [
       "333.8888888888889"
      ]
     },
     "execution_count": 25,
     "metadata": {},
     "output_type": "execute_result"
    }
   ],
   "source": [
    "sales['Precio'].mean() ## El .mean() solo funciona con valores numericos."
   ]
  },
  {
   "cell_type": "code",
   "execution_count": 27,
   "id": "300953ab",
   "metadata": {},
   "outputs": [
    {
     "data": {
      "text/plain": [
       "Producto     TelevisorLaptopLavadoraMóvilSecadoraMicroondas...\n",
       "Categoría    ElectrónicaElectrónicaElectrodomésticosElectró...\n",
       "Precio                                                    9015\n",
       "Cantidad                                                   155\n",
       "Fecha        2024-09-012024-09-022024-09-032024-09-042024-0...\n",
       "Ciudad       MadridBarcelonaValenciaSevillaBilbaoMálagaZara...\n",
       "dtype: object"
      ]
     },
     "execution_count": 27,
     "metadata": {},
     "output_type": "execute_result"
    }
   ],
   "source": [
    "sales.sum() ## El .sum() en caso de valores string y date los concatena, en caso de valores numericos los suma."
   ]
  },
  {
   "cell_type": "code",
   "execution_count": 33,
   "id": "c946bd98",
   "metadata": {},
   "outputs": [
    {
     "data": {
      "text/html": [
       "<div>\n",
       "<style scoped>\n",
       "    .dataframe tbody tr th:only-of-type {\n",
       "        vertical-align: middle;\n",
       "    }\n",
       "\n",
       "    .dataframe tbody tr th {\n",
       "        vertical-align: top;\n",
       "    }\n",
       "\n",
       "    .dataframe thead th {\n",
       "        text-align: right;\n",
       "    }\n",
       "</style>\n",
       "<table border=\"1\" class=\"dataframe\">\n",
       "  <thead>\n",
       "    <tr style=\"text-align: right;\">\n",
       "      <th></th>\n",
       "      <th>Producto</th>\n",
       "      <th>Categoría</th>\n",
       "      <th>Precio</th>\n",
       "      <th>Cantidad</th>\n",
       "      <th>Fecha</th>\n",
       "      <th>Ciudad</th>\n",
       "    </tr>\n",
       "  </thead>\n",
       "  <tbody>\n",
       "    <tr>\n",
       "      <th>0</th>\n",
       "      <td>Televisor</td>\n",
       "      <td>Electrónica</td>\n",
       "      <td>500</td>\n",
       "      <td>2</td>\n",
       "      <td>2024-09-01</td>\n",
       "      <td>Madrid</td>\n",
       "    </tr>\n",
       "    <tr>\n",
       "      <th>1</th>\n",
       "      <td>TelevisorLaptop</td>\n",
       "      <td>ElectrónicaElectrónica</td>\n",
       "      <td>1400</td>\n",
       "      <td>3</td>\n",
       "      <td>2024-09-012024-09-02</td>\n",
       "      <td>MadridBarcelona</td>\n",
       "    </tr>\n",
       "    <tr>\n",
       "      <th>2</th>\n",
       "      <td>TelevisorLaptopLavadora</td>\n",
       "      <td>ElectrónicaElectrónicaElectrodomésticos</td>\n",
       "      <td>2000</td>\n",
       "      <td>6</td>\n",
       "      <td>2024-09-012024-09-022024-09-03</td>\n",
       "      <td>MadridBarcelonaValencia</td>\n",
       "    </tr>\n",
       "    <tr>\n",
       "      <th>3</th>\n",
       "      <td>TelevisorLaptopLavadoraMóvil</td>\n",
       "      <td>ElectrónicaElectrónicaElectrodomésticosElectró...</td>\n",
       "      <td>2400</td>\n",
       "      <td>11</td>\n",
       "      <td>2024-09-012024-09-022024-09-032024-09-04</td>\n",
       "      <td>MadridBarcelonaValenciaSevilla</td>\n",
       "    </tr>\n",
       "    <tr>\n",
       "      <th>4</th>\n",
       "      <td>TelevisorLaptopLavadoraMóvilSecadora</td>\n",
       "      <td>ElectrónicaElectrónicaElectrodomésticosElectró...</td>\n",
       "      <td>2850</td>\n",
       "      <td>13</td>\n",
       "      <td>2024-09-012024-09-022024-09-032024-09-042024-0...</td>\n",
       "      <td>MadridBarcelonaValenciaSevillaBilbao</td>\n",
       "    </tr>\n",
       "  </tbody>\n",
       "</table>\n",
       "</div>"
      ],
      "text/plain": [
       "                               Producto  \\\n",
       "0                             Televisor   \n",
       "1                       TelevisorLaptop   \n",
       "2               TelevisorLaptopLavadora   \n",
       "3          TelevisorLaptopLavadoraMóvil   \n",
       "4  TelevisorLaptopLavadoraMóvilSecadora   \n",
       "\n",
       "                                           Categoría  Precio  Cantidad  \\\n",
       "0                                        Electrónica     500         2   \n",
       "1                             ElectrónicaElectrónica    1400         3   \n",
       "2            ElectrónicaElectrónicaElectrodomésticos    2000         6   \n",
       "3  ElectrónicaElectrónicaElectrodomésticosElectró...    2400        11   \n",
       "4  ElectrónicaElectrónicaElectrodomésticosElectró...    2850        13   \n",
       "\n",
       "                                               Fecha  \\\n",
       "0                                         2024-09-01   \n",
       "1                               2024-09-012024-09-02   \n",
       "2                     2024-09-012024-09-022024-09-03   \n",
       "3           2024-09-012024-09-022024-09-032024-09-04   \n",
       "4  2024-09-012024-09-022024-09-032024-09-042024-0...   \n",
       "\n",
       "                                 Ciudad  \n",
       "0                                Madrid  \n",
       "1                       MadridBarcelona  \n",
       "2               MadridBarcelonaValencia  \n",
       "3        MadridBarcelonaValenciaSevilla  \n",
       "4  MadridBarcelonaValenciaSevillaBilbao  "
      ]
     },
     "execution_count": 33,
     "metadata": {},
     "output_type": "execute_result"
    }
   ],
   "source": [
    "sales.cumsum().head() # Suma el valor anterior con el siguiente."
   ]
  },
  {
   "cell_type": "code",
   "execution_count": 34,
   "id": "b9467561",
   "metadata": {},
   "outputs": [
    {
     "data": {
      "text/plain": [
       "0               500\n",
       "1            450000\n",
       "2         270000000\n",
       "3      108000000000\n",
       "4    48600000000000\n",
       "Name: Precio, dtype: int64"
      ]
     },
     "execution_count": 34,
     "metadata": {},
     "output_type": "execute_result"
    }
   ],
   "source": [
    "sales['Precio'].cumprod().head() # multiplica el valor anterior con el siguiente. # Solo funciona con valores numericos."
   ]
  },
  {
   "cell_type": "code",
   "execution_count": 37,
   "id": "f3d9763f",
   "metadata": {},
   "outputs": [
    {
     "data": {
      "text/plain": [
       "240.0"
      ]
     },
     "execution_count": 37,
     "metadata": {},
     "output_type": "execute_result"
    }
   ],
   "source": [
    "sales['Precio'].median() # Retornar la mediana de los valores. # Solo funciona con valores numericos."
   ]
  },
  {
   "cell_type": "code",
   "execution_count": 39,
   "id": "7067897b",
   "metadata": {},
   "outputs": [
    {
     "data": {
      "text/plain": [
       "(27, 6)"
      ]
     },
     "execution_count": 39,
     "metadata": {},
     "output_type": "execute_result"
    }
   ],
   "source": [
    "sales.shape # (FILAS, COLUMNAS)"
   ]
  },
  {
   "cell_type": "code",
   "execution_count": 41,
   "id": "36194e89",
   "metadata": {},
   "outputs": [
    {
     "data": {
      "text/plain": [
       "Producto     object\n",
       "Categoría    object\n",
       "Precio        int64\n",
       "Cantidad      int64\n",
       "Fecha        object\n",
       "Ciudad       object\n",
       "dtype: object"
      ]
     },
     "execution_count": 41,
     "metadata": {},
     "output_type": "execute_result"
    }
   ],
   "source": [
    "sales.dtypes #Tipo de cada columna."
   ]
  },
  {
   "cell_type": "code",
   "execution_count": null,
   "id": "e4e1fd5f",
   "metadata": {},
   "outputs": [],
   "source": []
  },
  {
   "cell_type": "code",
   "execution_count": null,
   "id": "a48c65ea",
   "metadata": {},
   "outputs": [],
   "source": []
  },
  {
   "cell_type": "code",
   "execution_count": null,
   "id": "0759894e",
   "metadata": {},
   "outputs": [],
   "source": []
  },
  {
   "cell_type": "code",
   "execution_count": null,
   "id": "15e2e896",
   "metadata": {},
   "outputs": [],
   "source": []
  }
 ],
 "metadata": {
  "kernelspec": {
   "display_name": "Python 3 (ipykernel)",
   "language": "python",
   "name": "python3"
  },
  "language_info": {
   "codemirror_mode": {
    "name": "ipython",
    "version": 3
   },
   "file_extension": ".py",
   "mimetype": "text/x-python",
   "name": "python",
   "nbconvert_exporter": "python",
   "pygments_lexer": "ipython3",
   "version": "3.11.4"
  }
 },
 "nbformat": 4,
 "nbformat_minor": 5
}
