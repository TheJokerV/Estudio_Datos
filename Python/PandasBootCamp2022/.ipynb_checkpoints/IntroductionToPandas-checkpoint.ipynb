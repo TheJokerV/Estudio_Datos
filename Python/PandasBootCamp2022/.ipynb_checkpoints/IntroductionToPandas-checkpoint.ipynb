{
 "cells": [
  {
   "cell_type": "markdown",
   "id": "5a855ff4",
   "metadata": {},
   "source": [
    "<h1> FIRST PART <h/1>"
   ]
  },
  {
   "cell_type": "code",
   "execution_count": 9,
   "id": "be6e981f",
   "metadata": {},
   "outputs": [],
   "source": [
    "import pandas as pd"
   ]
  },
  {
   "cell_type": "code",
   "execution_count": 10,
   "id": "d72cd656",
   "metadata": {},
   "outputs": [
    {
     "data": {
      "text/plain": [
       "Jan      300\n",
       "Feb      400\n",
       "March    500\n",
       "dtype: int64"
      ]
     },
     "execution_count": 10,
     "metadata": {},
     "output_type": "execute_result"
    }
   ],
   "source": [
    "pd.Series([300,400,500], index = ['Jan', 'Feb', 'March'])"
   ]
  },
  {
   "cell_type": "markdown",
   "id": "7502c7f6",
   "metadata": {},
   "source": [
    "<h3>DICCIONARIO:</h3>\n",
    "\n",
    "De manera vulgar, un diccionario es una forma de almacenar elementos como se haria en una lista de Python, con la diferencia que en lugar de acceder a los elementos por su indice, se le asigna una clave fija y se accede mediante dicha clave."
   ]
  },
  {
   "cell_type": "code",
   "execution_count": 11,
   "id": "c7de1787",
   "metadata": {},
   "outputs": [],
   "source": [
    "dict1 = {'Jan': 300, 'Feb': 400, 'March': 500}"
   ]
  },
  {
   "cell_type": "code",
   "execution_count": 12,
   "id": "b3dc7bb2",
   "metadata": {},
   "outputs": [
    {
     "data": {
      "text/plain": [
       "300"
      ]
     },
     "execution_count": 12,
     "metadata": {},
     "output_type": "execute_result"
    }
   ],
   "source": [
    "#dict1\n",
    "\n",
    "dict1['Jan']"
   ]
  },
  {
   "cell_type": "code",
   "execution_count": 13,
   "id": "e52cc779",
   "metadata": {},
   "outputs": [],
   "source": [
    "var_Series = pd.Series(dict1)"
   ]
  },
  {
   "cell_type": "code",
   "execution_count": 14,
   "id": "f9b12a39",
   "metadata": {},
   "outputs": [
    {
     "data": {
      "text/plain": [
       "Jan      300\n",
       "Feb      400\n",
       "March    500\n",
       "dtype: int64"
      ]
     },
     "execution_count": 14,
     "metadata": {},
     "output_type": "execute_result"
    }
   ],
   "source": [
    "var_Series"
   ]
  },
  {
   "cell_type": "code",
   "execution_count": 15,
   "id": "5522883a",
   "metadata": {},
   "outputs": [
    {
     "data": {
      "text/plain": [
       "300"
      ]
     },
     "execution_count": 15,
     "metadata": {},
     "output_type": "execute_result"
    }
   ],
   "source": [
    "var_Series['Jan']"
   ]
  },
  {
   "cell_type": "code",
   "execution_count": 16,
   "id": "55d3f77a",
   "metadata": {},
   "outputs": [
    {
     "data": {
      "text/plain": [
       "True"
      ]
     },
     "execution_count": 16,
     "metadata": {},
     "output_type": "execute_result"
    }
   ],
   "source": [
    "\"Jan\" in var_Series ### Checa si existe la key"
   ]
  },
  {
   "cell_type": "code",
   "execution_count": 17,
   "id": "e2a0fe17",
   "metadata": {},
   "outputs": [
    {
     "data": {
      "text/plain": [
       "Jan       600\n",
       "Feb       800\n",
       "March    1000\n",
       "dtype: int64"
      ]
     },
     "execution_count": 17,
     "metadata": {},
     "output_type": "execute_result"
    }
   ],
   "source": [
    "var_Series*2"
   ]
  },
  {
   "cell_type": "markdown",
   "id": "46e26160",
   "metadata": {},
   "source": [
    "<h1> SECOND PART <h/1>"
   ]
  },
  {
   "cell_type": "code",
   "execution_count": 19,
   "id": "947373f8",
   "metadata": {},
   "outputs": [],
   "source": [
    "sales = pd.Series([65, 69, 72, 81, 60, 2, 56, 9, 27, 73, 84, 5])"
   ]
  },
  {
   "cell_type": "code",
   "execution_count": 20,
   "id": "c32f587a",
   "metadata": {},
   "outputs": [],
   "source": [
    "sales.index = ['Jan', 'Feb', 'March', 'Apr', 'May', 'June', 'July', 'Aug', 'Sep', 'Oct', 'Nov', 'Dec']"
   ]
  },
  {
   "cell_type": "code",
   "execution_count": 23,
   "id": "32568aec",
   "metadata": {},
   "outputs": [
    {
     "data": {
      "text/plain": [
       "Jan    65\n",
       "Feb    69\n",
       "dtype: int64"
      ]
     },
     "execution_count": 23,
     "metadata": {},
     "output_type": "execute_result"
    }
   ],
   "source": [
    "sales.head(2) #Muestra los 5 primeros valores, pero se puede modificar dentro del parentesis"
   ]
  },
  {
   "cell_type": "code",
   "execution_count": null,
   "id": "0bae470c",
   "metadata": {},
   "outputs": [],
   "source": []
  },
  {
   "cell_type": "code",
   "execution_count": null,
   "id": "e5cfed5e",
   "metadata": {},
   "outputs": [],
   "source": []
  }
 ],
 "metadata": {
  "kernelspec": {
   "display_name": "Python 3 (ipykernel)",
   "language": "python",
   "name": "python3"
  },
  "language_info": {
   "codemirror_mode": {
    "name": "ipython",
    "version": 3
   },
   "file_extension": ".py",
   "mimetype": "text/x-python",
   "name": "python",
   "nbconvert_exporter": "python",
   "pygments_lexer": "ipython3",
   "version": "3.11.4"
  }
 },
 "nbformat": 4,
 "nbformat_minor": 5
}
