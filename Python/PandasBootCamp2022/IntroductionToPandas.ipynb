{
 "cells": [
  {
   "cell_type": "markdown",
   "id": "d63040d2",
   "metadata": {},
   "source": [
    "<h1> FIRST PART <h/1>"
   ]
  },
  {
   "cell_type": "code",
   "execution_count": 9,
   "id": "be6e981f",
   "metadata": {},
   "outputs": [],
   "source": [
    "import pandas as pd"
   ]
  },
  {
   "cell_type": "code",
   "execution_count": 10,
   "id": "d72cd656",
   "metadata": {},
   "outputs": [
    {
     "data": {
      "text/plain": [
       "Jan      300\n",
       "Feb      400\n",
       "March    500\n",
       "dtype: int64"
      ]
     },
     "execution_count": 10,
     "metadata": {},
     "output_type": "execute_result"
    }
   ],
   "source": [
    "pd.Series([300,400,500], index = ['Jan', 'Feb', 'March'])"
   ]
  },
  {
   "cell_type": "markdown",
   "id": "18786e65",
   "metadata": {},
   "source": [
    "<h3>DICCIONARIO:</h3>\n",
    "\n",
    "De manera vulgar, un diccionario es una forma de almacenar elementos como se haria en una lista de Python, con la diferencia que en lugar de acceder a los elementos por su indice, se le asigna una clave fija y se accede mediante dicha clave."
   ]
  },
  {
   "cell_type": "code",
   "execution_count": 11,
   "id": "c7de1787",
   "metadata": {},
   "outputs": [],
   "source": [
    "dict1 = {'Jan': 300, 'Feb': 400, 'March': 500}"
   ]
  },
  {
   "cell_type": "code",
   "execution_count": 12,
   "id": "62e164f8",
   "metadata": {},
   "outputs": [
    {
     "data": {
      "text/plain": [
       "300"
      ]
     },
     "execution_count": 12,
     "metadata": {},
     "output_type": "execute_result"
    }
   ],
   "source": [
    "#dict1\n",
    "\n",
    "dict1['Jan']"
   ]
  },
  {
   "cell_type": "code",
   "execution_count": 13,
   "id": "e52cc779",
   "metadata": {},
   "outputs": [],
   "source": [
    "var_Series = pd.Series(dict1)"
   ]
  },
  {
   "cell_type": "code",
   "execution_count": 14,
   "id": "f9b12a39",
   "metadata": {},
   "outputs": [
    {
     "data": {
      "text/plain": [
       "Jan      300\n",
       "Feb      400\n",
       "March    500\n",
       "dtype: int64"
      ]
     },
     "execution_count": 14,
     "metadata": {},
     "output_type": "execute_result"
    }
   ],
   "source": [
    "var_Series"
   ]
  },
  {
   "cell_type": "code",
   "execution_count": 15,
   "id": "5522883a",
   "metadata": {},
   "outputs": [
    {
     "data": {
      "text/plain": [
       "300"
      ]
     },
     "execution_count": 15,
     "metadata": {},
     "output_type": "execute_result"
    }
   ],
   "source": [
    "var_Series['Jan']"
   ]
  },
  {
   "cell_type": "code",
   "execution_count": 16,
   "id": "55d3f77a",
   "metadata": {},
   "outputs": [
    {
     "data": {
      "text/plain": [
       "True"
      ]
     },
     "execution_count": 16,
     "metadata": {},
     "output_type": "execute_result"
    }
   ],
   "source": [
    "\"Jan\" in var_Series ### Checa si existe la key"
   ]
  },
  {
   "cell_type": "code",
   "execution_count": 17,
   "id": "e2a0fe17",
   "metadata": {},
   "outputs": [
    {
     "data": {
      "text/plain": [
       "Jan       600\n",
       "Feb       800\n",
       "March    1000\n",
       "dtype: int64"
      ]
     },
     "execution_count": 17,
     "metadata": {},
     "output_type": "execute_result"
    }
   ],
   "source": [
    "var_Series*2"
   ]
  },
  {
   "cell_type": "markdown",
   "id": "6070d9de",
   "metadata": {},
   "source": [
    "<h1> SECOND PART <h/1>"
   ]
  },
  {
   "cell_type": "code",
   "execution_count": 19,
   "id": "ac4130e8",
   "metadata": {},
   "outputs": [],
   "source": [
    "sales = pd.Series([65, 69, 72, 81, 60, 2, 56, 9, 27, 73, 84, 5])"
   ]
  },
  {
   "cell_type": "code",
   "execution_count": 20,
   "id": "fd11f1aa",
   "metadata": {},
   "outputs": [],
   "source": [
    "sales.index = ['Jan', 'Feb', 'March', 'Apr', 'May', 'June', 'July', 'Aug', 'Sep', 'Oct', 'Nov', 'Dec']"
   ]
  },
  {
   "cell_type": "code",
   "execution_count": 23,
   "id": "d44ccaab",
   "metadata": {},
   "outputs": [
    {
     "data": {
      "text/plain": [
       "Jan    65\n",
       "Feb    69\n",
       "dtype: int64"
      ]
     },
     "execution_count": 23,
     "metadata": {},
     "output_type": "execute_result"
    }
   ],
   "source": [
    "sales.head(2) #Muestra los 5 primeros valores, pero se puede modificar dentro del parentesis"
   ]
  },
  {
   "cell_type": "code",
   "execution_count": 26,
   "id": "c208292e",
   "metadata": {},
   "outputs": [
    {
     "data": {
      "text/plain": [
       "Nov    84\n",
       "Dec     5\n",
       "dtype: int64"
      ]
     },
     "execution_count": 26,
     "metadata": {},
     "output_type": "execute_result"
    }
   ],
   "source": [
    "sales.tail(2) #Muestra los 5 ultimos valores, pero se puede modificar dentro del parentesis"
   ]
  },
  {
   "cell_type": "code",
   "execution_count": 27,
   "id": "e41e052b",
   "metadata": {},
   "outputs": [
    {
     "data": {
      "text/plain": [
       "2"
      ]
     },
     "execution_count": 27,
     "metadata": {},
     "output_type": "execute_result"
    }
   ],
   "source": [
    "sales.min() #Muestra el valor minimo."
   ]
  },
  {
   "cell_type": "code",
   "execution_count": 28,
   "id": "1d24f014",
   "metadata": {},
   "outputs": [
    {
     "data": {
      "text/plain": [
       "84"
      ]
     },
     "execution_count": 28,
     "metadata": {},
     "output_type": "execute_result"
    }
   ],
   "source": [
    "sales.max() #Muestra el valor maximo."
   ]
  },
  {
   "cell_type": "code",
   "execution_count": 29,
   "id": "7bd55be8",
   "metadata": {},
   "outputs": [
    {
     "data": {
      "text/plain": [
       "50.25"
      ]
     },
     "execution_count": 29,
     "metadata": {},
     "output_type": "execute_result"
    }
   ],
   "source": [
    "sales.mean() #Muestra el promedio."
   ]
  },
  {
   "cell_type": "code",
   "execution_count": 31,
   "id": "c93e7a50",
   "metadata": {},
   "outputs": [
    {
     "data": {
      "text/plain": [
       "30.733827972092605"
      ]
     },
     "execution_count": 31,
     "metadata": {},
     "output_type": "execute_result"
    }
   ],
   "source": [
    "sales.std() #Muestra la desviacion estandar."
   ]
  },
  {
   "cell_type": "code",
   "execution_count": 33,
   "id": "da152cde",
   "metadata": {},
   "outputs": [
    {
     "data": {
      "text/plain": [
       "944.5681818181819"
      ]
     },
     "execution_count": 33,
     "metadata": {},
     "output_type": "execute_result"
    }
   ],
   "source": [
    "sales.var() #Muestra la varianza."
   ]
  },
  {
   "cell_type": "code",
   "execution_count": 36,
   "id": "e8b541f4",
   "metadata": {},
   "outputs": [],
   "source": [
    "series1 = pd.Series([10, 20, 30, 10, 20, 30, 10, 20, 10, 10])"
   ]
  },
  {
   "cell_type": "code",
   "execution_count": 37,
   "id": "29fa20d2",
   "metadata": {},
   "outputs": [
    {
     "data": {
      "text/plain": [
       "0    10\n",
       "1    20\n",
       "2    30\n",
       "3    10\n",
       "4    20\n",
       "5    30\n",
       "6    10\n",
       "7    20\n",
       "8    10\n",
       "9    10\n",
       "dtype: int64"
      ]
     },
     "execution_count": 37,
     "metadata": {},
     "output_type": "execute_result"
    }
   ],
   "source": [
    "series1"
   ]
  },
  {
   "cell_type": "code",
   "execution_count": 38,
   "id": "f82c8003",
   "metadata": {},
   "outputs": [
    {
     "data": {
      "text/plain": [
       "array([10, 20, 30], dtype=int64)"
      ]
     },
     "execution_count": 38,
     "metadata": {},
     "output_type": "execute_result"
    }
   ],
   "source": [
    "series1.unique() #Obtener valores unicos."
   ]
  },
  {
   "cell_type": "code",
   "execution_count": 40,
   "id": "bdda3154",
   "metadata": {},
   "outputs": [
    {
     "data": {
      "text/plain": [
       "3"
      ]
     },
     "execution_count": 40,
     "metadata": {},
     "output_type": "execute_result"
    }
   ],
   "source": [
    "series1. nunique() #Cantidad de valores unicos."
   ]
  },
  {
   "cell_type": "code",
   "execution_count": 41,
   "id": "797dc0a3",
   "metadata": {},
   "outputs": [
    {
     "data": {
      "text/plain": [
       "10    5\n",
       "20    3\n",
       "30    2\n",
       "dtype: int64"
      ]
     },
     "execution_count": 41,
     "metadata": {},
     "output_type": "execute_result"
    }
   ],
   "source": [
    "series1.value_counts() #Contar la cantidad de valores."
   ]
  }
 ],
 "metadata": {
  "kernelspec": {
   "display_name": "Python 3 (ipykernel)",
   "language": "python",
   "name": "python3"
  },
  "language_info": {
   "codemirror_mode": {
    "name": "ipython",
    "version": 3
   },
   "file_extension": ".py",
   "mimetype": "text/x-python",
   "name": "python",
   "nbconvert_exporter": "python",
   "pygments_lexer": "ipython3",
   "version": "3.11.4"
  }
 },
 "nbformat": 4,
 "nbformat_minor": 5
}
